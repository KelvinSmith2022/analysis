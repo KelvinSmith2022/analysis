{
 "cells": [
  {
   "cell_type": "markdown",
   "id": "05efb537",
   "metadata": {},
   "source": [
    "### Problem Statement\n",
    "\n",
    "An Airport want a Data Scientist to develop a machine learning model that can be used to predict the Price of an airline when a\n",
    "test data is passed to the model. As the Data Scientist, you are supposed to perform the ff tasks.\n",
    "\n",
    "#### TASK\n",
    "\n",
    "<ol>Develop a Machine Learning Model to predict price</ol>\n",
    "<ol>Perform key analysis that will be important to the organization</ol>\n",
    "<ol>Visualize relationship between some features in the dataset</ol>\n",
    "<ol>Perform statistical and descriptive analysis on the data</ol>\n",
    "<ol>Check for outliers, perform feature encoding and extract key features to model the data</ol>"
   ]
  },
  {
   "cell_type": "code",
   "execution_count": 1,
   "id": "1dd912cf",
   "metadata": {},
   "outputs": [],
   "source": [
    "import pandas as pd\n",
    "import numpy as np\n",
    "import seaborn as sns\n",
    "import matplotlib.pyplot as plt\n",
    "import plotly.express as px "
   ]
  },
  {
   "cell_type": "code",
   "execution_count": 2,
   "id": "77804193",
   "metadata": {},
   "outputs": [
    {
     "data": {
      "text/html": [
       "<div>\n",
       "<style scoped>\n",
       "    .dataframe tbody tr th:only-of-type {\n",
       "        vertical-align: middle;\n",
       "    }\n",
       "\n",
       "    .dataframe tbody tr th {\n",
       "        vertical-align: top;\n",
       "    }\n",
       "\n",
       "    .dataframe thead th {\n",
       "        text-align: right;\n",
       "    }\n",
       "</style>\n",
       "<table border=\"1\" class=\"dataframe\">\n",
       "  <thead>\n",
       "    <tr style=\"text-align: right;\">\n",
       "      <th></th>\n",
       "      <th>Airline</th>\n",
       "      <th>Date_of_Journey</th>\n",
       "      <th>Source</th>\n",
       "      <th>Destination</th>\n",
       "      <th>Route</th>\n",
       "      <th>Dep_Time</th>\n",
       "      <th>Arrival_Time</th>\n",
       "      <th>Duration</th>\n",
       "      <th>Total_Stops</th>\n",
       "      <th>Additional_Info</th>\n",
       "      <th>Price</th>\n",
       "    </tr>\n",
       "  </thead>\n",
       "  <tbody>\n",
       "    <tr>\n",
       "      <th>0</th>\n",
       "      <td>IndiGo</td>\n",
       "      <td>24/03/2019</td>\n",
       "      <td>Banglore</td>\n",
       "      <td>New Delhi</td>\n",
       "      <td>BLR → DEL</td>\n",
       "      <td>22:20</td>\n",
       "      <td>01:10 22 Mar</td>\n",
       "      <td>2h 50m</td>\n",
       "      <td>non-stop</td>\n",
       "      <td>No info</td>\n",
       "      <td>3897</td>\n",
       "    </tr>\n",
       "    <tr>\n",
       "      <th>1</th>\n",
       "      <td>Air India</td>\n",
       "      <td>1/05/2019</td>\n",
       "      <td>Kolkata</td>\n",
       "      <td>Banglore</td>\n",
       "      <td>CCU → IXR → BBI → BLR</td>\n",
       "      <td>05:50</td>\n",
       "      <td>13:15</td>\n",
       "      <td>7h 25m</td>\n",
       "      <td>2 stops</td>\n",
       "      <td>No info</td>\n",
       "      <td>7662</td>\n",
       "    </tr>\n",
       "    <tr>\n",
       "      <th>2</th>\n",
       "      <td>Jet Airways</td>\n",
       "      <td>9/06/2019</td>\n",
       "      <td>Delhi</td>\n",
       "      <td>Cochin</td>\n",
       "      <td>DEL → LKO → BOM → COK</td>\n",
       "      <td>09:25</td>\n",
       "      <td>04:25 10 Jun</td>\n",
       "      <td>19h</td>\n",
       "      <td>2 stops</td>\n",
       "      <td>No info</td>\n",
       "      <td>13882</td>\n",
       "    </tr>\n",
       "    <tr>\n",
       "      <th>3</th>\n",
       "      <td>IndiGo</td>\n",
       "      <td>12/05/2019</td>\n",
       "      <td>Kolkata</td>\n",
       "      <td>Banglore</td>\n",
       "      <td>CCU → NAG → BLR</td>\n",
       "      <td>18:05</td>\n",
       "      <td>23:30</td>\n",
       "      <td>5h 25m</td>\n",
       "      <td>1 stop</td>\n",
       "      <td>No info</td>\n",
       "      <td>6218</td>\n",
       "    </tr>\n",
       "    <tr>\n",
       "      <th>4</th>\n",
       "      <td>IndiGo</td>\n",
       "      <td>01/03/2019</td>\n",
       "      <td>Banglore</td>\n",
       "      <td>New Delhi</td>\n",
       "      <td>BLR → NAG → DEL</td>\n",
       "      <td>16:50</td>\n",
       "      <td>21:35</td>\n",
       "      <td>4h 45m</td>\n",
       "      <td>1 stop</td>\n",
       "      <td>No info</td>\n",
       "      <td>13302</td>\n",
       "    </tr>\n",
       "  </tbody>\n",
       "</table>\n",
       "</div>"
      ],
      "text/plain": [
       "       Airline Date_of_Journey    Source Destination                  Route  \\\n",
       "0       IndiGo      24/03/2019  Banglore   New Delhi              BLR → DEL   \n",
       "1    Air India       1/05/2019   Kolkata    Banglore  CCU → IXR → BBI → BLR   \n",
       "2  Jet Airways       9/06/2019     Delhi      Cochin  DEL → LKO → BOM → COK   \n",
       "3       IndiGo      12/05/2019   Kolkata    Banglore        CCU → NAG → BLR   \n",
       "4       IndiGo      01/03/2019  Banglore   New Delhi        BLR → NAG → DEL   \n",
       "\n",
       "  Dep_Time  Arrival_Time Duration Total_Stops Additional_Info  Price  \n",
       "0    22:20  01:10 22 Mar   2h 50m    non-stop         No info   3897  \n",
       "1    05:50         13:15   7h 25m     2 stops         No info   7662  \n",
       "2    09:25  04:25 10 Jun      19h     2 stops         No info  13882  \n",
       "3    18:05         23:30   5h 25m      1 stop         No info   6218  \n",
       "4    16:50         21:35   4h 45m      1 stop         No info  13302  "
      ]
     },
     "execution_count": 2,
     "metadata": {},
     "output_type": "execute_result"
    }
   ],
   "source": [
    "online_data = pd.read_excel(r'C:\\\\Users\\\\user\\\\PycharmProjects\\\\online_ticket_prices\\\\Data_Train.xlsx')\n",
    "online_data.head()"
   ]
  },
  {
   "cell_type": "code",
   "execution_count": 3,
   "id": "b9d04b9b",
   "metadata": {},
   "outputs": [
    {
     "data": {
      "text/plain": [
       "(10683, 11)"
      ]
     },
     "execution_count": 3,
     "metadata": {},
     "output_type": "execute_result"
    }
   ],
   "source": [
    "online_data.shape"
   ]
  },
  {
   "cell_type": "code",
   "execution_count": 4,
   "id": "607d9588",
   "metadata": {},
   "outputs": [
    {
     "name": "stdout",
     "output_type": "stream",
     "text": [
      "<class 'pandas.core.frame.DataFrame'>\n",
      "RangeIndex: 10683 entries, 0 to 10682\n",
      "Data columns (total 11 columns):\n",
      " #   Column           Non-Null Count  Dtype \n",
      "---  ------           --------------  ----- \n",
      " 0   Airline          10683 non-null  object\n",
      " 1   Date_of_Journey  10683 non-null  object\n",
      " 2   Source           10683 non-null  object\n",
      " 3   Destination      10683 non-null  object\n",
      " 4   Route            10682 non-null  object\n",
      " 5   Dep_Time         10683 non-null  object\n",
      " 6   Arrival_Time     10683 non-null  object\n",
      " 7   Duration         10683 non-null  object\n",
      " 8   Total_Stops      10682 non-null  object\n",
      " 9   Additional_Info  10683 non-null  object\n",
      " 10  Price            10683 non-null  int64 \n",
      "dtypes: int64(1), object(10)\n",
      "memory usage: 918.2+ KB\n"
     ]
    }
   ],
   "source": [
    "online_data.info()"
   ]
  },
  {
   "cell_type": "code",
   "execution_count": 5,
   "id": "b22148e2",
   "metadata": {},
   "outputs": [
    {
     "data": {
      "text/plain": [
       "array(['IndiGo', 'Air India', 'Jet Airways', ..., 'Jet Airways',\n",
       "       'Vistara', 'Air India'], dtype=object)"
      ]
     },
     "execution_count": 5,
     "metadata": {},
     "output_type": "execute_result"
    }
   ],
   "source": [
    "online_data.Airline.values"
   ]
  },
  {
   "cell_type": "code",
   "execution_count": 6,
   "id": "d88f242d",
   "metadata": {},
   "outputs": [
    {
     "name": "stdout",
     "output_type": "stream",
     "text": [
      "['IndiGo' 'Air India' 'Jet Airways' ... 'Jet Airways' 'Vistara'\n",
      " 'Air India']\n",
      "\n",
      "['24/03/2019' '1/05/2019' '9/06/2019' ... '27/04/2019' '01/03/2019'\n",
      " '9/05/2019']\n",
      "\n",
      "['Banglore' 'Kolkata' 'Delhi' ... 'Banglore' 'Banglore' 'Delhi']\n",
      "\n",
      "['New Delhi' 'Banglore' 'Cochin' ... 'Delhi' 'New Delhi' 'Cochin']\n",
      "\n",
      "['BLR → DEL' 'CCU → IXR → BBI → BLR' 'DEL → LKO → BOM → COK' ...\n",
      " 'BLR → DEL' 'BLR → DEL' 'DEL → GOI → BOM → COK']\n",
      "\n",
      "['22:20' '05:50' '09:25' ... '08:20' '11:30' '10:55']\n",
      "\n",
      "['01:10 22 Mar' '13:15' '04:25 10 Jun' ... '11:20' '14:10' '19:15']\n",
      "\n",
      "['2h 50m' '7h 25m' '19h' ... '3h' '2h 40m' '8h 20m']\n",
      "\n",
      "['non-stop' '2 stops' '2 stops' ... 'non-stop' 'non-stop' '2 stops']\n",
      "\n",
      "['No info' 'No info' 'No info' ... 'No info' 'No info' 'No info']\n",
      "\n",
      "[ 3897  7662 13882 ...  7229 12648 11753]\n",
      "\n"
     ]
    }
   ],
   "source": [
    "for col in online_data.columns:\n",
    "    print(online_data[col].values)\n",
    "    print()"
   ]
  },
  {
   "cell_type": "code",
   "execution_count": 7,
   "id": "a6e22642",
   "metadata": {},
   "outputs": [
    {
     "name": "stderr",
     "output_type": "stream",
     "text": [
      "C:\\Users\\user\\anaconda3\\lib\\site-packages\\pandas\\core\\tools\\datetimes.py:1047: UserWarning: Parsing '24/03/2019' in DD/MM/YYYY format. Provide format or specify infer_datetime_format=True for consistent parsing.\n",
      "  cache_array = _maybe_cache(arg, format, cache, convert_listlike)\n",
      "C:\\Users\\user\\anaconda3\\lib\\site-packages\\pandas\\core\\tools\\datetimes.py:1047: UserWarning: Parsing '24/06/2019' in DD/MM/YYYY format. Provide format or specify infer_datetime_format=True for consistent parsing.\n",
      "  cache_array = _maybe_cache(arg, format, cache, convert_listlike)\n",
      "C:\\Users\\user\\anaconda3\\lib\\site-packages\\pandas\\core\\tools\\datetimes.py:1047: UserWarning: Parsing '27/05/2019' in DD/MM/YYYY format. Provide format or specify infer_datetime_format=True for consistent parsing.\n",
      "  cache_array = _maybe_cache(arg, format, cache, convert_listlike)\n",
      "C:\\Users\\user\\anaconda3\\lib\\site-packages\\pandas\\core\\tools\\datetimes.py:1047: UserWarning: Parsing '18/04/2019' in DD/MM/YYYY format. Provide format or specify infer_datetime_format=True for consistent parsing.\n",
      "  cache_array = _maybe_cache(arg, format, cache, convert_listlike)\n",
      "C:\\Users\\user\\anaconda3\\lib\\site-packages\\pandas\\core\\tools\\datetimes.py:1047: UserWarning: Parsing '24/04/2019' in DD/MM/YYYY format. Provide format or specify infer_datetime_format=True for consistent parsing.\n",
      "  cache_array = _maybe_cache(arg, format, cache, convert_listlike)\n",
      "C:\\Users\\user\\anaconda3\\lib\\site-packages\\pandas\\core\\tools\\datetimes.py:1047: UserWarning: Parsing '15/04/2019' in DD/MM/YYYY format. Provide format or specify infer_datetime_format=True for consistent parsing.\n",
      "  cache_array = _maybe_cache(arg, format, cache, convert_listlike)\n",
      "C:\\Users\\user\\anaconda3\\lib\\site-packages\\pandas\\core\\tools\\datetimes.py:1047: UserWarning: Parsing '21/03/2019' in DD/MM/YYYY format. Provide format or specify infer_datetime_format=True for consistent parsing.\n",
      "  cache_array = _maybe_cache(arg, format, cache, convert_listlike)\n",
      "C:\\Users\\user\\anaconda3\\lib\\site-packages\\pandas\\core\\tools\\datetimes.py:1047: UserWarning: Parsing '15/05/2019' in DD/MM/YYYY format. Provide format or specify infer_datetime_format=True for consistent parsing.\n",
      "  cache_array = _maybe_cache(arg, format, cache, convert_listlike)\n",
      "C:\\Users\\user\\anaconda3\\lib\\site-packages\\pandas\\core\\tools\\datetimes.py:1047: UserWarning: Parsing '18/06/2019' in DD/MM/YYYY format. Provide format or specify infer_datetime_format=True for consistent parsing.\n",
      "  cache_array = _maybe_cache(arg, format, cache, convert_listlike)\n",
      "C:\\Users\\user\\anaconda3\\lib\\site-packages\\pandas\\core\\tools\\datetimes.py:1047: UserWarning: Parsing '15/06/2019' in DD/MM/YYYY format. Provide format or specify infer_datetime_format=True for consistent parsing.\n",
      "  cache_array = _maybe_cache(arg, format, cache, convert_listlike)\n",
      "C:\\Users\\user\\anaconda3\\lib\\site-packages\\pandas\\core\\tools\\datetimes.py:1047: UserWarning: Parsing '18/05/2019' in DD/MM/YYYY format. Provide format or specify infer_datetime_format=True for consistent parsing.\n",
      "  cache_array = _maybe_cache(arg, format, cache, convert_listlike)\n",
      "C:\\Users\\user\\anaconda3\\lib\\site-packages\\pandas\\core\\tools\\datetimes.py:1047: UserWarning: Parsing '27/06/2019' in DD/MM/YYYY format. Provide format or specify infer_datetime_format=True for consistent parsing.\n",
      "  cache_array = _maybe_cache(arg, format, cache, convert_listlike)\n",
      "C:\\Users\\user\\anaconda3\\lib\\site-packages\\pandas\\core\\tools\\datetimes.py:1047: UserWarning: Parsing '21/05/2019' in DD/MM/YYYY format. Provide format or specify infer_datetime_format=True for consistent parsing.\n",
      "  cache_array = _maybe_cache(arg, format, cache, convert_listlike)\n",
      "C:\\Users\\user\\anaconda3\\lib\\site-packages\\pandas\\core\\tools\\datetimes.py:1047: UserWarning: Parsing '15/03/2019' in DD/MM/YYYY format. Provide format or specify infer_datetime_format=True for consistent parsing.\n",
      "  cache_array = _maybe_cache(arg, format, cache, convert_listlike)\n",
      "C:\\Users\\user\\anaconda3\\lib\\site-packages\\pandas\\core\\tools\\datetimes.py:1047: UserWarning: Parsing '24/05/2019' in DD/MM/YYYY format. Provide format or specify infer_datetime_format=True for consistent parsing.\n",
      "  cache_array = _maybe_cache(arg, format, cache, convert_listlike)\n",
      "C:\\Users\\user\\anaconda3\\lib\\site-packages\\pandas\\core\\tools\\datetimes.py:1047: UserWarning: Parsing '21/04/2019' in DD/MM/YYYY format. Provide format or specify infer_datetime_format=True for consistent parsing.\n",
      "  cache_array = _maybe_cache(arg, format, cache, convert_listlike)\n",
      "C:\\Users\\user\\anaconda3\\lib\\site-packages\\pandas\\core\\tools\\datetimes.py:1047: UserWarning: Parsing '21/06/2019' in DD/MM/YYYY format. Provide format or specify infer_datetime_format=True for consistent parsing.\n",
      "  cache_array = _maybe_cache(arg, format, cache, convert_listlike)\n",
      "C:\\Users\\user\\anaconda3\\lib\\site-packages\\pandas\\core\\tools\\datetimes.py:1047: UserWarning: Parsing '27/03/2019' in DD/MM/YYYY format. Provide format or specify infer_datetime_format=True for consistent parsing.\n",
      "  cache_array = _maybe_cache(arg, format, cache, convert_listlike)\n",
      "C:\\Users\\user\\anaconda3\\lib\\site-packages\\pandas\\core\\tools\\datetimes.py:1047: UserWarning: Parsing '18/03/2019' in DD/MM/YYYY format. Provide format or specify infer_datetime_format=True for consistent parsing.\n",
      "  cache_array = _maybe_cache(arg, format, cache, convert_listlike)\n",
      "C:\\Users\\user\\anaconda3\\lib\\site-packages\\pandas\\core\\tools\\datetimes.py:1047: UserWarning: Parsing '27/04/2019' in DD/MM/YYYY format. Provide format or specify infer_datetime_format=True for consistent parsing.\n",
      "  cache_array = _maybe_cache(arg, format, cache, convert_listlike)\n"
     ]
    },
    {
     "data": {
      "text/plain": [
       "Airline                    object\n",
       "Date_of_Journey    datetime64[ns]\n",
       "Source                     object\n",
       "Destination                object\n",
       "Route                      object\n",
       "Dep_Time           datetime64[ns]\n",
       "Arrival_Time       datetime64[ns]\n",
       "Duration                   object\n",
       "Total_Stops                object\n",
       "Additional_Info            object\n",
       "Price                       int64\n",
       "dtype: object"
      ]
     },
     "execution_count": 7,
     "metadata": {},
     "output_type": "execute_result"
    }
   ],
   "source": [
    "# converting datetime features from object datatype to datetime \n",
    "cols = ['Date_of_Journey', 'Dep_Time', 'Arrival_Time']\n",
    "for col in cols:\n",
    "    online_data[col] = pd.to_datetime(online_data[col])\n",
    "online_data.dtypes"
   ]
  },
  {
   "cell_type": "code",
   "execution_count": 8,
   "id": "6fd7a809",
   "metadata": {},
   "outputs": [
    {
     "data": {
      "text/html": [
       "<div>\n",
       "<style scoped>\n",
       "    .dataframe tbody tr th:only-of-type {\n",
       "        vertical-align: middle;\n",
       "    }\n",
       "\n",
       "    .dataframe tbody tr th {\n",
       "        vertical-align: top;\n",
       "    }\n",
       "\n",
       "    .dataframe thead th {\n",
       "        text-align: right;\n",
       "    }\n",
       "</style>\n",
       "<table border=\"1\" class=\"dataframe\">\n",
       "  <thead>\n",
       "    <tr style=\"text-align: right;\">\n",
       "      <th></th>\n",
       "      <th>Airline</th>\n",
       "      <th>Date_of_Journey</th>\n",
       "      <th>Source</th>\n",
       "      <th>Destination</th>\n",
       "      <th>Route</th>\n",
       "      <th>Dep_Time</th>\n",
       "      <th>Arrival_Time</th>\n",
       "      <th>Duration</th>\n",
       "      <th>Total_Stops</th>\n",
       "      <th>Additional_Info</th>\n",
       "      <th>Price</th>\n",
       "      <th>DOJ_Year</th>\n",
       "      <th>DOJ_Month</th>\n",
       "      <th>DOJ_Day</th>\n",
       "    </tr>\n",
       "  </thead>\n",
       "  <tbody>\n",
       "    <tr>\n",
       "      <th>0</th>\n",
       "      <td>IndiGo</td>\n",
       "      <td>2019-03-24</td>\n",
       "      <td>Banglore</td>\n",
       "      <td>New Delhi</td>\n",
       "      <td>BLR → DEL</td>\n",
       "      <td>2022-07-18 22:20:00</td>\n",
       "      <td>2022-03-22 01:10:00</td>\n",
       "      <td>2h 50m</td>\n",
       "      <td>non-stop</td>\n",
       "      <td>No info</td>\n",
       "      <td>3897</td>\n",
       "      <td>2019</td>\n",
       "      <td>3</td>\n",
       "      <td>24</td>\n",
       "    </tr>\n",
       "    <tr>\n",
       "      <th>1</th>\n",
       "      <td>Air India</td>\n",
       "      <td>2019-01-05</td>\n",
       "      <td>Kolkata</td>\n",
       "      <td>Banglore</td>\n",
       "      <td>CCU → IXR → BBI → BLR</td>\n",
       "      <td>2022-07-18 05:50:00</td>\n",
       "      <td>2022-07-18 13:15:00</td>\n",
       "      <td>7h 25m</td>\n",
       "      <td>2 stops</td>\n",
       "      <td>No info</td>\n",
       "      <td>7662</td>\n",
       "      <td>2019</td>\n",
       "      <td>1</td>\n",
       "      <td>5</td>\n",
       "    </tr>\n",
       "    <tr>\n",
       "      <th>2</th>\n",
       "      <td>Jet Airways</td>\n",
       "      <td>2019-09-06</td>\n",
       "      <td>Delhi</td>\n",
       "      <td>Cochin</td>\n",
       "      <td>DEL → LKO → BOM → COK</td>\n",
       "      <td>2022-07-18 09:25:00</td>\n",
       "      <td>2022-06-10 04:25:00</td>\n",
       "      <td>19h</td>\n",
       "      <td>2 stops</td>\n",
       "      <td>No info</td>\n",
       "      <td>13882</td>\n",
       "      <td>2019</td>\n",
       "      <td>9</td>\n",
       "      <td>6</td>\n",
       "    </tr>\n",
       "  </tbody>\n",
       "</table>\n",
       "</div>"
      ],
      "text/plain": [
       "       Airline Date_of_Journey    Source Destination                  Route  \\\n",
       "0       IndiGo      2019-03-24  Banglore   New Delhi              BLR → DEL   \n",
       "1    Air India      2019-01-05   Kolkata    Banglore  CCU → IXR → BBI → BLR   \n",
       "2  Jet Airways      2019-09-06     Delhi      Cochin  DEL → LKO → BOM → COK   \n",
       "\n",
       "             Dep_Time        Arrival_Time Duration Total_Stops  \\\n",
       "0 2022-07-18 22:20:00 2022-03-22 01:10:00   2h 50m    non-stop   \n",
       "1 2022-07-18 05:50:00 2022-07-18 13:15:00   7h 25m     2 stops   \n",
       "2 2022-07-18 09:25:00 2022-06-10 04:25:00      19h     2 stops   \n",
       "\n",
       "  Additional_Info  Price  DOJ_Year  DOJ_Month  DOJ_Day  \n",
       "0         No info   3897      2019          3       24  \n",
       "1         No info   7662      2019          1        5  \n",
       "2         No info  13882      2019          9        6  "
      ]
     },
     "execution_count": 8,
     "metadata": {},
     "output_type": "execute_result"
    }
   ],
   "source": [
    "# Breaking Date of Journey into Year, month and day since the machine learning model wont understand the special characters\n",
    "online_data[\"DOJ_Year\"] = online_data[\"Date_of_Journey\"].dt.year\n",
    "online_data[\"DOJ_Month\"] = online_data[\"Date_of_Journey\"].dt.month\n",
    "online_data[\"DOJ_Day\"] = online_data[\"Date_of_Journey\"].dt.day\n",
    "online_data.head(3)"
   ]
  },
  {
   "cell_type": "code",
   "execution_count": 9,
   "id": "7df11d4a",
   "metadata": {},
   "outputs": [
    {
     "data": {
      "text/plain": [
       "Airline            0\n",
       "Date_of_Journey    0\n",
       "Source             0\n",
       "Destination        0\n",
       "Route              1\n",
       "Dep_Time           0\n",
       "Arrival_Time       0\n",
       "Duration           0\n",
       "Total_Stops        1\n",
       "Additional_Info    0\n",
       "Price              0\n",
       "DOJ_Year           0\n",
       "DOJ_Month          0\n",
       "DOJ_Day            0\n",
       "dtype: int64"
      ]
     },
     "execution_count": 9,
     "metadata": {},
     "output_type": "execute_result"
    }
   ],
   "source": [
    "online_data.isnull().sum()"
   ]
  },
  {
   "cell_type": "code",
   "execution_count": 10,
   "id": "8c28b93e",
   "metadata": {},
   "outputs": [
    {
     "data": {
      "text/html": [
       "<div>\n",
       "<style scoped>\n",
       "    .dataframe tbody tr th:only-of-type {\n",
       "        vertical-align: middle;\n",
       "    }\n",
       "\n",
       "    .dataframe tbody tr th {\n",
       "        vertical-align: top;\n",
       "    }\n",
       "\n",
       "    .dataframe thead th {\n",
       "        text-align: right;\n",
       "    }\n",
       "</style>\n",
       "<table border=\"1\" class=\"dataframe\">\n",
       "  <thead>\n",
       "    <tr style=\"text-align: right;\">\n",
       "      <th></th>\n",
       "      <th>Airline</th>\n",
       "      <th>Source</th>\n",
       "      <th>Destination</th>\n",
       "      <th>Route</th>\n",
       "      <th>Dep_Time</th>\n",
       "      <th>Arrival_Time</th>\n",
       "      <th>Duration</th>\n",
       "      <th>Total_Stops</th>\n",
       "      <th>Additional_Info</th>\n",
       "      <th>Price</th>\n",
       "      <th>DOJ_Year</th>\n",
       "      <th>DOJ_Month</th>\n",
       "      <th>DOJ_Day</th>\n",
       "    </tr>\n",
       "  </thead>\n",
       "  <tbody>\n",
       "    <tr>\n",
       "      <th>0</th>\n",
       "      <td>IndiGo</td>\n",
       "      <td>Banglore</td>\n",
       "      <td>New Delhi</td>\n",
       "      <td>BLR → DEL</td>\n",
       "      <td>2022-07-18 22:20:00</td>\n",
       "      <td>2022-03-22 01:10:00</td>\n",
       "      <td>2h 50m</td>\n",
       "      <td>non-stop</td>\n",
       "      <td>No info</td>\n",
       "      <td>3897</td>\n",
       "      <td>2019</td>\n",
       "      <td>3</td>\n",
       "      <td>24</td>\n",
       "    </tr>\n",
       "    <tr>\n",
       "      <th>1</th>\n",
       "      <td>Air India</td>\n",
       "      <td>Kolkata</td>\n",
       "      <td>Banglore</td>\n",
       "      <td>CCU → IXR → BBI → BLR</td>\n",
       "      <td>2022-07-18 05:50:00</td>\n",
       "      <td>2022-07-18 13:15:00</td>\n",
       "      <td>7h 25m</td>\n",
       "      <td>2 stops</td>\n",
       "      <td>No info</td>\n",
       "      <td>7662</td>\n",
       "      <td>2019</td>\n",
       "      <td>1</td>\n",
       "      <td>5</td>\n",
       "    </tr>\n",
       "    <tr>\n",
       "      <th>2</th>\n",
       "      <td>Jet Airways</td>\n",
       "      <td>Delhi</td>\n",
       "      <td>Cochin</td>\n",
       "      <td>DEL → LKO → BOM → COK</td>\n",
       "      <td>2022-07-18 09:25:00</td>\n",
       "      <td>2022-06-10 04:25:00</td>\n",
       "      <td>19h</td>\n",
       "      <td>2 stops</td>\n",
       "      <td>No info</td>\n",
       "      <td>13882</td>\n",
       "      <td>2019</td>\n",
       "      <td>9</td>\n",
       "      <td>6</td>\n",
       "    </tr>\n",
       "  </tbody>\n",
       "</table>\n",
       "</div>"
      ],
      "text/plain": [
       "       Airline    Source Destination                  Route  \\\n",
       "0       IndiGo  Banglore   New Delhi              BLR → DEL   \n",
       "1    Air India   Kolkata    Banglore  CCU → IXR → BBI → BLR   \n",
       "2  Jet Airways     Delhi      Cochin  DEL → LKO → BOM → COK   \n",
       "\n",
       "             Dep_Time        Arrival_Time Duration Total_Stops  \\\n",
       "0 2022-07-18 22:20:00 2022-03-22 01:10:00   2h 50m    non-stop   \n",
       "1 2022-07-18 05:50:00 2022-07-18 13:15:00   7h 25m     2 stops   \n",
       "2 2022-07-18 09:25:00 2022-06-10 04:25:00      19h     2 stops   \n",
       "\n",
       "  Additional_Info  Price  DOJ_Year  DOJ_Month  DOJ_Day  \n",
       "0         No info   3897      2019          3       24  \n",
       "1         No info   7662      2019          1        5  \n",
       "2         No info  13882      2019          9        6  "
      ]
     },
     "execution_count": 10,
     "metadata": {},
     "output_type": "execute_result"
    }
   ],
   "source": [
    "online_data.dropna(inplace=True)\n",
    "online_data.drop('Date_of_Journey', axis=1, inplace=True)\n",
    "online_data.head(3)"
   ]
  },
  {
   "cell_type": "code",
   "execution_count": 11,
   "id": "729f26b4",
   "metadata": {},
   "outputs": [
    {
     "data": {
      "text/plain": [
       "Airline            0\n",
       "Source             0\n",
       "Destination        0\n",
       "Route              0\n",
       "Dep_Time           0\n",
       "Arrival_Time       0\n",
       "Duration           0\n",
       "Total_Stops        0\n",
       "Additional_Info    0\n",
       "Price              0\n",
       "DOJ_Year           0\n",
       "DOJ_Month          0\n",
       "DOJ_Day            0\n",
       "dtype: int64"
      ]
     },
     "execution_count": 11,
     "metadata": {},
     "output_type": "execute_result"
    }
   ],
   "source": [
    "online_data.isnull().sum()"
   ]
  },
  {
   "cell_type": "code",
   "execution_count": 12,
   "id": "8ea836c5",
   "metadata": {},
   "outputs": [],
   "source": [
    "def extract_timestamp(df, col):\n",
    "    df[col+\"_Hour\"] = df[col].dt.hour\n",
    "    df[col+\"_Min\"] = df[col].dt.minute\n",
    "    df.drop(col, axis=1, inplace=True)\n",
    "    return df.head(3)"
   ]
  },
  {
   "cell_type": "code",
   "execution_count": 13,
   "id": "c7f2c672",
   "metadata": {},
   "outputs": [],
   "source": [
    "for col in cols:\n",
    "    if col == 'Date_of_Journey':\n",
    "        pass\n",
    "    else:\n",
    "        extract_timestamp(online_data, col)"
   ]
  },
  {
   "cell_type": "code",
   "execution_count": 14,
   "id": "b2048203",
   "metadata": {},
   "outputs": [
    {
     "data": {
      "text/html": [
       "<div>\n",
       "<style scoped>\n",
       "    .dataframe tbody tr th:only-of-type {\n",
       "        vertical-align: middle;\n",
       "    }\n",
       "\n",
       "    .dataframe tbody tr th {\n",
       "        vertical-align: top;\n",
       "    }\n",
       "\n",
       "    .dataframe thead th {\n",
       "        text-align: right;\n",
       "    }\n",
       "</style>\n",
       "<table border=\"1\" class=\"dataframe\">\n",
       "  <thead>\n",
       "    <tr style=\"text-align: right;\">\n",
       "      <th></th>\n",
       "      <th>Airline</th>\n",
       "      <th>Source</th>\n",
       "      <th>Destination</th>\n",
       "      <th>Route</th>\n",
       "      <th>Duration</th>\n",
       "      <th>Total_Stops</th>\n",
       "      <th>Additional_Info</th>\n",
       "      <th>Price</th>\n",
       "      <th>DOJ_Year</th>\n",
       "      <th>DOJ_Month</th>\n",
       "      <th>DOJ_Day</th>\n",
       "      <th>Dep_Time_Hour</th>\n",
       "      <th>Dep_Time_Min</th>\n",
       "      <th>Arrival_Time_Hour</th>\n",
       "      <th>Arrival_Time_Min</th>\n",
       "    </tr>\n",
       "  </thead>\n",
       "  <tbody>\n",
       "    <tr>\n",
       "      <th>0</th>\n",
       "      <td>IndiGo</td>\n",
       "      <td>Banglore</td>\n",
       "      <td>New Delhi</td>\n",
       "      <td>BLR → DEL</td>\n",
       "      <td>2h 50m</td>\n",
       "      <td>non-stop</td>\n",
       "      <td>No info</td>\n",
       "      <td>3897</td>\n",
       "      <td>2019</td>\n",
       "      <td>3</td>\n",
       "      <td>24</td>\n",
       "      <td>22</td>\n",
       "      <td>20</td>\n",
       "      <td>1</td>\n",
       "      <td>10</td>\n",
       "    </tr>\n",
       "    <tr>\n",
       "      <th>1</th>\n",
       "      <td>Air India</td>\n",
       "      <td>Kolkata</td>\n",
       "      <td>Banglore</td>\n",
       "      <td>CCU → IXR → BBI → BLR</td>\n",
       "      <td>7h 25m</td>\n",
       "      <td>2 stops</td>\n",
       "      <td>No info</td>\n",
       "      <td>7662</td>\n",
       "      <td>2019</td>\n",
       "      <td>1</td>\n",
       "      <td>5</td>\n",
       "      <td>5</td>\n",
       "      <td>50</td>\n",
       "      <td>13</td>\n",
       "      <td>15</td>\n",
       "    </tr>\n",
       "    <tr>\n",
       "      <th>2</th>\n",
       "      <td>Jet Airways</td>\n",
       "      <td>Delhi</td>\n",
       "      <td>Cochin</td>\n",
       "      <td>DEL → LKO → BOM → COK</td>\n",
       "      <td>19h</td>\n",
       "      <td>2 stops</td>\n",
       "      <td>No info</td>\n",
       "      <td>13882</td>\n",
       "      <td>2019</td>\n",
       "      <td>9</td>\n",
       "      <td>6</td>\n",
       "      <td>9</td>\n",
       "      <td>25</td>\n",
       "      <td>4</td>\n",
       "      <td>25</td>\n",
       "    </tr>\n",
       "  </tbody>\n",
       "</table>\n",
       "</div>"
      ],
      "text/plain": [
       "       Airline    Source Destination                  Route Duration  \\\n",
       "0       IndiGo  Banglore   New Delhi              BLR → DEL   2h 50m   \n",
       "1    Air India   Kolkata    Banglore  CCU → IXR → BBI → BLR   7h 25m   \n",
       "2  Jet Airways     Delhi      Cochin  DEL → LKO → BOM → COK      19h   \n",
       "\n",
       "  Total_Stops Additional_Info  Price  DOJ_Year  DOJ_Month  DOJ_Day  \\\n",
       "0    non-stop         No info   3897      2019          3       24   \n",
       "1     2 stops         No info   7662      2019          1        5   \n",
       "2     2 stops         No info  13882      2019          9        6   \n",
       "\n",
       "   Dep_Time_Hour  Dep_Time_Min  Arrival_Time_Hour  Arrival_Time_Min  \n",
       "0             22            20                  1                10  \n",
       "1              5            50                 13                15  \n",
       "2              9            25                  4                25  "
      ]
     },
     "execution_count": 14,
     "metadata": {},
     "output_type": "execute_result"
    }
   ],
   "source": [
    "online_data.head(3)"
   ]
  },
  {
   "cell_type": "code",
   "execution_count": 15,
   "id": "56d5a4be",
   "metadata": {},
   "outputs": [
    {
     "name": "stdout",
     "output_type": "stream",
     "text": [
      "Airline\n",
      "['IndiGo' 'Air India' 'Jet Airways' 'SpiceJet' 'Multiple carriers' 'GoAir'\n",
      " 'Vistara' 'Air Asia' 'Vistara Premium economy' 'Jet Airways Business'\n",
      " 'Multiple carriers Premium economy' 'Trujet']\n",
      "\n",
      "Source\n",
      "['Banglore' 'Kolkata' 'Delhi' 'Chennai' 'Mumbai']\n",
      "\n",
      "Destination\n",
      "['New Delhi' 'Banglore' 'Cochin' 'Kolkata' 'Delhi' 'Hyderabad']\n",
      "\n",
      "Route\n",
      "['BLR → DEL' 'CCU → IXR → BBI → BLR' 'DEL → LKO → BOM → COK'\n",
      " 'CCU → NAG → BLR' 'BLR → NAG → DEL' 'CCU → BLR' 'BLR → BOM → DEL'\n",
      " 'DEL → BOM → COK' 'DEL → BLR → COK' 'MAA → CCU' 'CCU → BOM → BLR'\n",
      " 'DEL → AMD → BOM → COK' 'DEL → PNQ → COK' 'DEL → CCU → BOM → COK'\n",
      " 'BLR → COK → DEL' 'DEL → IDR → BOM → COK' 'DEL → LKO → COK'\n",
      " 'CCU → GAU → DEL → BLR' 'DEL → NAG → BOM → COK' 'CCU → MAA → BLR'\n",
      " 'DEL → HYD → COK' 'CCU → HYD → BLR' 'DEL → COK' 'CCU → DEL → BLR'\n",
      " 'BLR → BOM → AMD → DEL' 'BOM → DEL → HYD' 'DEL → MAA → COK' 'BOM → HYD'\n",
      " 'DEL → BHO → BOM → COK' 'DEL → JAI → BOM → COK' 'DEL → ATQ → BOM → COK'\n",
      " 'DEL → JDH → BOM → COK' 'CCU → BBI → BOM → BLR' 'BLR → MAA → DEL'\n",
      " 'DEL → GOI → BOM → COK' 'DEL → BDQ → BOM → COK' 'CCU → JAI → BOM → BLR'\n",
      " 'CCU → BBI → BLR' 'BLR → HYD → DEL' 'DEL → TRV → COK'\n",
      " 'CCU → IXR → DEL → BLR' 'DEL → IXU → BOM → COK' 'CCU → IXB → BLR'\n",
      " 'BLR → BOM → JDH → DEL' 'DEL → UDR → BOM → COK' 'DEL → HYD → MAA → COK'\n",
      " 'CCU → BOM → COK → BLR' 'BLR → CCU → DEL' 'CCU → BOM → GOI → BLR'\n",
      " 'DEL → RPR → NAG → BOM → COK' 'DEL → HYD → BOM → COK'\n",
      " 'CCU → DEL → AMD → BLR' 'CCU → PNQ → BLR' 'BLR → CCU → GAU → DEL'\n",
      " 'CCU → DEL → COK → BLR' 'BLR → PNQ → DEL' 'BOM → JDH → DEL → HYD'\n",
      " 'BLR → BOM → BHO → DEL' 'DEL → AMD → COK' 'BLR → LKO → DEL'\n",
      " 'CCU → GAU → BLR' 'BOM → GOI → HYD' 'CCU → BOM → AMD → BLR'\n",
      " 'CCU → BBI → IXR → DEL → BLR' 'DEL → DED → BOM → COK'\n",
      " 'DEL → MAA → BOM → COK' 'BLR → AMD → DEL' 'BLR → VGA → DEL'\n",
      " 'CCU → JAI → DEL → BLR' 'CCU → AMD → BLR' 'CCU → VNS → DEL → BLR'\n",
      " 'BLR → BOM → IDR → DEL' 'BLR → BBI → DEL' 'BLR → GOI → DEL'\n",
      " 'BOM → AMD → ISK → HYD' 'BOM → DED → DEL → HYD' 'DEL → IXC → BOM → COK'\n",
      " 'CCU → PAT → BLR' 'BLR → CCU → BBI → DEL' 'CCU → BBI → HYD → BLR'\n",
      " 'BLR → BOM → NAG → DEL' 'BLR → CCU → BBI → HYD → DEL' 'BLR → GAU → DEL'\n",
      " 'BOM → BHO → DEL → HYD' 'BOM → JLR → HYD' 'BLR → HYD → VGA → DEL'\n",
      " 'CCU → KNU → BLR' 'CCU → BOM → PNQ → BLR' 'DEL → BBI → COK'\n",
      " 'BLR → VGA → HYD → DEL' 'BOM → JDH → JAI → DEL → HYD'\n",
      " 'DEL → GWL → IDR → BOM → COK' 'CCU → RPR → HYD → BLR' 'CCU → VTZ → BLR'\n",
      " 'CCU → DEL → VGA → BLR' 'BLR → BOM → IDR → GWL → DEL'\n",
      " 'CCU → DEL → COK → TRV → BLR' 'BOM → COK → MAA → HYD' 'BOM → NDC → HYD'\n",
      " 'BLR → BDQ → DEL' 'CCU → BOM → TRV → BLR' 'CCU → BOM → HBX → BLR'\n",
      " 'BOM → BDQ → DEL → HYD' 'BOM → CCU → HYD' 'BLR → TRV → COK → DEL'\n",
      " 'BLR → IDR → DEL' 'CCU → IXZ → MAA → BLR' 'CCU → GAU → IMF → DEL → BLR'\n",
      " 'BOM → GOI → PNQ → HYD' 'BOM → BLR → CCU → BBI → HYD' 'BOM → MAA → HYD'\n",
      " 'BLR → BOM → UDR → DEL' 'BOM → UDR → DEL → HYD' 'BLR → VGA → VTZ → DEL'\n",
      " 'BLR → HBX → BOM → BHO → DEL' 'CCU → IXA → BLR' 'BOM → RPR → VTZ → HYD'\n",
      " 'BLR → HBX → BOM → AMD → DEL' 'BOM → IDR → DEL → HYD' 'BOM → BLR → HYD'\n",
      " 'BLR → STV → DEL' 'CCU → IXB → DEL → BLR' 'BOM → JAI → DEL → HYD'\n",
      " 'BOM → VNS → DEL → HYD' 'BLR → HBX → BOM → NAG → DEL'\n",
      " 'BLR → BOM → IXC → DEL' 'BLR → CCU → BBI → HYD → VGA → DEL'\n",
      " 'BOM → BBI → HYD']\n",
      "\n",
      "Duration\n",
      "['2h 50m' '7h 25m' '19h' '5h 25m' '4h 45m' '2h 25m' '15h 30m' '21h 5m'\n",
      " '25h 30m' '7h 50m' '13h 15m' '2h 35m' '2h 15m' '12h 10m' '26h 35m'\n",
      " '4h 30m' '22h 35m' '23h' '20h 35m' '5h 10m' '15h 20m' '2h 55m' '13h 20m'\n",
      " '15h 10m' '5h 45m' '5h 55m' '13h 25m' '22h' '5h 30m' '10h 25m' '5h 15m'\n",
      " '2h 30m' '6h 15m' '11h 55m' '11h 5m' '8h 30m' '22h 5m' '2h 45m' '12h'\n",
      " '16h 5m' '19h 55m' '3h 15m' '25h 20m' '3h' '16h 15m' '15h 5m' '6h 30m'\n",
      " '25h 5m' '12h 25m' '27h 20m' '10h 15m' '10h 30m' '1h 30m' '1h 25m'\n",
      " '26h 30m' '7h 20m' '13h 30m' '5h' '19h 5m' '14h 50m' '2h 40m' '22h 10m'\n",
      " '9h 35m' '10h' '21h 20m' '18h 45m' '12h 20m' '18h' '9h 15m' '17h 30m'\n",
      " '16h 35m' '12h 15m' '7h 30m' '24h' '8h 55m' '7h 10m' '14h 30m' '30h 20m'\n",
      " '15h' '12h 45m' '10h 10m' '15h 25m' '14h 5m' '20h 15m' '23h 10m'\n",
      " '18h 10m' '16h' '2h 20m' '8h' '16h 55m' '3h 10m' '14h' '23h 50m'\n",
      " '21h 40m' '21h 15m' '10h 50m' '8h 15m' '8h 35m' '11h 50m' '27h 35m'\n",
      " '8h 25m' '20h 55m' '4h 50m' '8h 10m' '24h 25m' '23h 35m' '25h 45m'\n",
      " '26h 10m' '28h 50m' '25h 15m' '9h 20m' '9h 10m' '3h 5m' '11h 30m'\n",
      " '9h 30m' '17h 35m' '5h 5m' '25h 50m' '20h' '13h' '18h 25m' '24h 10m'\n",
      " '4h 55m' '25h 35m' '6h 20m' '18h 40m' '19h 25m' '29h 20m' '9h 5m'\n",
      " '10h 45m' '11h 40m' '22h 55m' '37h 25m' '25h 40m' '13h 55m' '8h 40m'\n",
      " '23h 30m' '12h 35m' '24h 15m' '1h 20m' '11h' '11h 15m' '14h 35m'\n",
      " '12h 55m' '9h' '7h 40m' '11h 45m' '24h 55m' '17h 5m' '29h 55m' '22h 15m'\n",
      " '14h 40m' '7h 15m' '20h 10m' '20h 45m' '27h' '24h 30m' '20h 25m' '5h 35m'\n",
      " '14h 45m' '5h 40m' '4h 5m' '15h 55m' '7h 45m' '28h 20m' '4h 20m' '3h 40m'\n",
      " '8h 50m' '23h 45m' '24h 45m' '21h 35m' '8h 5m' '6h 25m' '15h 50m'\n",
      " '26h 25m' '24h 50m' '26h' '23h 5m' '7h 55m' '26h 20m' '23h 15m' '5h 20m'\n",
      " '4h' '9h 45m' '8h 20m' '17h 25m' '7h 5m' '34h 5m' '6h 5m' '5h 50m' '7h'\n",
      " '4h 25m' '13h 45m' '19h 15m' '22h 30m' '16h 25m' '13h 50m' '27h 5m'\n",
      " '28h 10m' '4h 40m' '15h 40m' '4h 35m' '18h 30m' '38h 15m' '6h 35m'\n",
      " '12h 30m' '11h 20m' '7h 35m' '29h 35m' '26h 55m' '23h 40m' '12h 50m'\n",
      " '9h 50m' '21h 55m' '10h 55m' '21h 10m' '20h 40m' '30h' '13h 10m' '8h 45m'\n",
      " '6h 10m' '17h 45m' '21h 45m' '3h 55m' '17h 20m' '30h 30m' '21h 25m'\n",
      " '12h 40m' '24h 35m' '19h 10m' '22h 40m' '14h 55m' '21h' '6h 45m'\n",
      " '28h 40m' '9h 40m' '16h 40m' '16h 20m' '16h 45m' '1h 15m' '6h 55m'\n",
      " '11h 25m' '14h 20m' '12h 5m' '24h 5m' '28h 15m' '17h 50m' '20h 20m'\n",
      " '28h 5m' '10h 20m' '14h 15m' '35h 15m' '35h 35m' '26h 40m' '28h'\n",
      " '14h 25m' '13h 5m' '37h 20m' '36h 10m' '25h 55m' '35h 5m' '19h 45m'\n",
      " '27h 55m' '47h' '10h 35m' '1h 35m' '16h 10m' '38h 20m' '6h' '16h 50m'\n",
      " '14h 10m' '23h 20m' '17h 40m' '11h 35m' '18h 20m' '6h 40m' '30h 55m'\n",
      " '24h 40m' '29h 50m' '28h 25m' '17h 15m' '22h 45m' '25h 25m' '21h 50m'\n",
      " '33h 15m' '30h 15m' '3h 35m' '27h 40m' '30h 25m' '18h 50m' '27h 45m'\n",
      " '15h 15m' '10h 40m' '26h 15m' '36h 25m' '26h 50m' '15h 45m' '19h 40m'\n",
      " '22h 25m' '19h 35m' '25h' '26h 45m' '38h' '4h 15m' '25h 10m' '18h 15m'\n",
      " '6h 50m' '23h 55m' '17h 55m' '23h 25m' '17h 10m' '24h 20m' '28h 30m'\n",
      " '27h 10m' '19h 20m' '15h 35m' '9h 25m' '21h 30m' '34h 25m' '18h 35m'\n",
      " '29h 40m' '26h 5m' '29h 5m' '27h 25m' '16h 30m' '11h 10m' '28h 55m'\n",
      " '29h 10m' '34h' '30h 40m' '30h 45m' '32h 55m' '10h 5m' '35h 20m' '32h 5m'\n",
      " '31h 40m' '19h 50m' '33h 45m' '30h 10m' '13h 40m' '19h 30m' '31h 30m'\n",
      " '34h 30m' '27h 50m' '38h 35m' '42h 5m' '4h 10m' '39h 5m' '3h 50m' '5m'\n",
      " '32h 30m' '31h 55m' '33h 20m' '27h 30m' '18h 55m' '9h 55m' '41h 20m'\n",
      " '20h 5m' '31h 50m' '42h 45m' '3h 25m' '37h 10m' '29h 30m' '32h 20m'\n",
      " '20h 50m' '40h 20m' '13h 35m' '47h 40m']\n",
      "\n",
      "Total_Stops\n",
      "['non-stop' '2 stops' '1 stop' '3 stops' '4 stops']\n",
      "\n",
      "Additional_Info\n",
      "['No info' 'In-flight meal not included' 'No check-in baggage included'\n",
      " '1 Short layover' 'No Info' '1 Long layover' 'Change airports'\n",
      " 'Business class' 'Red-eye flight' '2 Long layover']\n",
      "\n",
      "Price\n",
      "[ 3897  7662 13882 ...  9790 12352 12648]\n",
      "\n",
      "DOJ_Year\n",
      "[2019]\n",
      "\n",
      "DOJ_Month\n",
      "[ 3  1  9 12  6  5  4]\n",
      "\n",
      "DOJ_Day\n",
      "[24  5  6  3 27 18 15 21  4]\n",
      "\n",
      "Dep_Time_Hour\n",
      "[22  5  9 18 16  8 11 20 21 17 14  4  7 10 15  6 19 23 13  2 12  0  1  3]\n",
      "\n",
      "Dep_Time_Min\n",
      "[20 50 25  5  0 55 45 40 10 15 35 30]\n",
      "\n",
      "Arrival_Time_Hour\n",
      "[ 1 13  4 23 21 11 10  5 19 22  9 12  6  8  3 20 16 18 15 14  0  2  7 17]\n",
      "\n",
      "Arrival_Time_Min\n",
      "[10 15 25 30 35  5  0 55 20 50 45 40]\n",
      "\n"
     ]
    }
   ],
   "source": [
    "# check for dirt in data by going through the unique values in each feature\n",
    "for col in online_data.columns:\n",
    "    print(col)\n",
    "    print(online_data[col].unique())\n",
    "    print()"
   ]
  },
  {
   "cell_type": "code",
   "execution_count": 16,
   "id": "5a93f91a",
   "metadata": {},
   "outputs": [],
   "source": [
    "# cleaning dirt in Duration data \n",
    "def set_hour_min(x):\n",
    "    if \"h\" not in x:\n",
    "        x = '0h '+x\n",
    "    elif \"m\" not in x:\n",
    "        x = x+\" 0m\"\n",
    "    return x"
   ]
  },
  {
   "cell_type": "code",
   "execution_count": 17,
   "id": "4da14175",
   "metadata": {},
   "outputs": [],
   "source": [
    "online_data['Duration'] = online_data['Duration'].apply(set_hour_min)"
   ]
  },
  {
   "cell_type": "code",
   "execution_count": 18,
   "id": "82ddb439",
   "metadata": {},
   "outputs": [
    {
     "data": {
      "text/plain": [
       "0        2h 50m\n",
       "1        7h 25m\n",
       "2        19h 0m\n",
       "3        5h 25m\n",
       "4        4h 45m\n",
       "          ...  \n",
       "10678    2h 30m\n",
       "10679    2h 35m\n",
       "10680     3h 0m\n",
       "10681    2h 40m\n",
       "10682    8h 20m\n",
       "Name: Duration, Length: 10682, dtype: object"
      ]
     },
     "execution_count": 18,
     "metadata": {},
     "output_type": "execute_result"
    }
   ],
   "source": [
    "online_data.Duration"
   ]
  },
  {
   "cell_type": "code",
   "execution_count": 19,
   "id": "cecb3a23",
   "metadata": {},
   "outputs": [
    {
     "data": {
      "text/plain": [
       "2"
      ]
     },
     "execution_count": 19,
     "metadata": {},
     "output_type": "execute_result"
    }
   ],
   "source": [
    "int(online_data['Duration'][0].split(' ')[0][0:-1])"
   ]
  },
  {
   "cell_type": "code",
   "execution_count": 20,
   "id": "67cedd2f",
   "metadata": {},
   "outputs": [
    {
     "data": {
      "text/html": [
       "<div>\n",
       "<style scoped>\n",
       "    .dataframe tbody tr th:only-of-type {\n",
       "        vertical-align: middle;\n",
       "    }\n",
       "\n",
       "    .dataframe tbody tr th {\n",
       "        vertical-align: top;\n",
       "    }\n",
       "\n",
       "    .dataframe thead th {\n",
       "        text-align: right;\n",
       "    }\n",
       "</style>\n",
       "<table border=\"1\" class=\"dataframe\">\n",
       "  <thead>\n",
       "    <tr style=\"text-align: right;\">\n",
       "      <th></th>\n",
       "      <th>Airline</th>\n",
       "      <th>Source</th>\n",
       "      <th>Destination</th>\n",
       "      <th>Route</th>\n",
       "      <th>Duration</th>\n",
       "      <th>Total_Stops</th>\n",
       "      <th>Additional_Info</th>\n",
       "      <th>Price</th>\n",
       "      <th>DOJ_Year</th>\n",
       "      <th>DOJ_Month</th>\n",
       "      <th>DOJ_Day</th>\n",
       "      <th>Dep_Time_Hour</th>\n",
       "      <th>Dep_Time_Min</th>\n",
       "      <th>Arrival_Time_Hour</th>\n",
       "      <th>Arrival_Time_Min</th>\n",
       "      <th>Duration_hour</th>\n",
       "      <th>Duration_min</th>\n",
       "    </tr>\n",
       "  </thead>\n",
       "  <tbody>\n",
       "    <tr>\n",
       "      <th>0</th>\n",
       "      <td>IndiGo</td>\n",
       "      <td>Banglore</td>\n",
       "      <td>New Delhi</td>\n",
       "      <td>BLR → DEL</td>\n",
       "      <td>2h 50m</td>\n",
       "      <td>non-stop</td>\n",
       "      <td>No info</td>\n",
       "      <td>3897</td>\n",
       "      <td>2019</td>\n",
       "      <td>3</td>\n",
       "      <td>24</td>\n",
       "      <td>22</td>\n",
       "      <td>20</td>\n",
       "      <td>1</td>\n",
       "      <td>10</td>\n",
       "      <td>2</td>\n",
       "      <td>7</td>\n",
       "    </tr>\n",
       "    <tr>\n",
       "      <th>1</th>\n",
       "      <td>Air India</td>\n",
       "      <td>Kolkata</td>\n",
       "      <td>Banglore</td>\n",
       "      <td>CCU → IXR → BBI → BLR</td>\n",
       "      <td>7h 25m</td>\n",
       "      <td>2 stops</td>\n",
       "      <td>No info</td>\n",
       "      <td>7662</td>\n",
       "      <td>2019</td>\n",
       "      <td>1</td>\n",
       "      <td>5</td>\n",
       "      <td>5</td>\n",
       "      <td>50</td>\n",
       "      <td>13</td>\n",
       "      <td>15</td>\n",
       "      <td>2</td>\n",
       "      <td>7</td>\n",
       "    </tr>\n",
       "    <tr>\n",
       "      <th>2</th>\n",
       "      <td>Jet Airways</td>\n",
       "      <td>Delhi</td>\n",
       "      <td>Cochin</td>\n",
       "      <td>DEL → LKO → BOM → COK</td>\n",
       "      <td>19h 0m</td>\n",
       "      <td>2 stops</td>\n",
       "      <td>No info</td>\n",
       "      <td>13882</td>\n",
       "      <td>2019</td>\n",
       "      <td>9</td>\n",
       "      <td>6</td>\n",
       "      <td>9</td>\n",
       "      <td>25</td>\n",
       "      <td>4</td>\n",
       "      <td>25</td>\n",
       "      <td>2</td>\n",
       "      <td>7</td>\n",
       "    </tr>\n",
       "  </tbody>\n",
       "</table>\n",
       "</div>"
      ],
      "text/plain": [
       "       Airline    Source Destination                  Route Duration  \\\n",
       "0       IndiGo  Banglore   New Delhi              BLR → DEL   2h 50m   \n",
       "1    Air India   Kolkata    Banglore  CCU → IXR → BBI → BLR   7h 25m   \n",
       "2  Jet Airways     Delhi      Cochin  DEL → LKO → BOM → COK   19h 0m   \n",
       "\n",
       "  Total_Stops Additional_Info  Price  DOJ_Year  DOJ_Month  DOJ_Day  \\\n",
       "0    non-stop         No info   3897      2019          3       24   \n",
       "1     2 stops         No info   7662      2019          1        5   \n",
       "2     2 stops         No info  13882      2019          9        6   \n",
       "\n",
       "   Dep_Time_Hour  Dep_Time_Min  Arrival_Time_Hour  Arrival_Time_Min  \\\n",
       "0             22            20                  1                10   \n",
       "1              5            50                 13                15   \n",
       "2              9            25                  4                25   \n",
       "\n",
       "   Duration_hour  Duration_min  \n",
       "0              2             7  \n",
       "1              2             7  \n",
       "2              2             7  "
      ]
     },
     "execution_count": 20,
     "metadata": {},
     "output_type": "execute_result"
    }
   ],
   "source": [
    "online_data['Duration_hour'] = online_data['Duration'].apply(lambda x:int(online_data['Duration'][0].split(' ')[0][0:-1]))\n",
    "online_data['Duration_min'] = online_data['Duration'].apply(lambda x:int(online_data['Duration'][1].split(' ')[0][0:-1]))\n",
    "online_data.head(3) "
   ]
  },
  {
   "cell_type": "code",
   "execution_count": 21,
   "id": "45c1bb51",
   "metadata": {},
   "outputs": [
    {
     "data": {
      "text/plain": [
       "Price                1.000000\n",
       "DOJ_Year                  NaN\n",
       "DOJ_Month            0.010705\n",
       "DOJ_Day             -0.165448\n",
       "Dep_Time_Hour        0.006799\n",
       "Dep_Time_Min        -0.024458\n",
       "Arrival_Time_Hour    0.024244\n",
       "Arrival_Time_Min    -0.086155\n",
       "Duration_hour             NaN\n",
       "Duration_min              NaN\n",
       "Name: Price, dtype: float64"
      ]
     },
     "execution_count": 21,
     "metadata": {},
     "output_type": "execute_result"
    }
   ],
   "source": [
    "online_data.corr()['Price']"
   ]
  },
  {
   "cell_type": "markdown",
   "id": "9e3ba6d8",
   "metadata": {},
   "source": [
    "### Which destination records most flights for the various airlines?"
   ]
  },
  {
   "cell_type": "code",
   "execution_count": 22,
   "id": "1fd4f42f",
   "metadata": {},
   "outputs": [
    {
     "data": {
      "text/plain": [
       "Airline                            Destination\n",
       "Air Asia                           Banglore        150\n",
       "                                   Cochin           80\n",
       "                                   Delhi            71\n",
       "                                   New Delhi        18\n",
       "Air India                          Cochin          746\n",
       "                                   Banglore        512\n",
       "                                   New Delhi       212\n",
       "                                   Hyderabad       136\n",
       "                                   Delhi           120\n",
       "                                   Kolkata          25\n",
       "GoAir                              Cochin           76\n",
       "                                   Delhi            69\n",
       "                                   Banglore         25\n",
       "                                   New Delhi        24\n",
       "IndiGo                             Cochin          705\n",
       "                                   Banglore        445\n",
       "                                   Delhi           366\n",
       "                                   Hyderabad       196\n",
       "                                   Kolkata         184\n",
       "                                   New Delhi       157\n",
       "Jet Airways                        Cochin         1586\n",
       "                                   Banglore       1256\n",
       "                                   New Delhi       418\n",
       "                                   Delhi           370\n",
       "                                   Hyderabad       219\n",
       "Jet Airways Business               New Delhi         4\n",
       "                                   Cochin            2\n",
       "Multiple carriers                  Cochin         1196\n",
       "Multiple carriers Premium economy  Cochin           13\n",
       "SpiceJet                           Banglore        300\n",
       "                                   Delhi           137\n",
       "                                   Kolkata         128\n",
       "                                   Hyderabad       122\n",
       "                                   Cochin           87\n",
       "                                   New Delhi        44\n",
       "Trujet                             Hyderabad         1\n",
       "Vistara                            Banglore        183\n",
       "                                   Delhi           131\n",
       "                                   New Delhi        54\n",
       "                                   Cochin           45\n",
       "                                   Kolkata          43\n",
       "                                   Hyderabad        23\n",
       "Vistara Premium economy            Delhi             1\n",
       "                                   Kolkata           1\n",
       "                                   New Delhi         1\n",
       "Name: Destination, dtype: int64"
      ]
     },
     "execution_count": 22,
     "metadata": {},
     "output_type": "execute_result"
    }
   ],
   "source": [
    "# Finding the destination that records most flights for the various airlines\n",
    "max_destination = online_data.groupby('Airline')['Destination'].value_counts()\n",
    "max_destination"
   ]
  },
  {
   "cell_type": "code",
   "execution_count": 23,
   "id": "7c854b4f",
   "metadata": {},
   "outputs": [
    {
     "data": {
      "text/html": [
       "<div>\n",
       "<style scoped>\n",
       "    .dataframe tbody tr th:only-of-type {\n",
       "        vertical-align: middle;\n",
       "    }\n",
       "\n",
       "    .dataframe tbody tr th {\n",
       "        vertical-align: top;\n",
       "    }\n",
       "\n",
       "    .dataframe thead th {\n",
       "        text-align: right;\n",
       "    }\n",
       "</style>\n",
       "<table border=\"1\" class=\"dataframe\">\n",
       "  <thead>\n",
       "    <tr style=\"text-align: right;\">\n",
       "      <th></th>\n",
       "      <th>Destination</th>\n",
       "      <th>No. of flights</th>\n",
       "    </tr>\n",
       "  </thead>\n",
       "  <tbody>\n",
       "    <tr>\n",
       "      <th>0</th>\n",
       "      <td>Cochin</td>\n",
       "      <td>4536</td>\n",
       "    </tr>\n",
       "    <tr>\n",
       "      <th>1</th>\n",
       "      <td>Banglore</td>\n",
       "      <td>2871</td>\n",
       "    </tr>\n",
       "    <tr>\n",
       "      <th>2</th>\n",
       "      <td>Delhi</td>\n",
       "      <td>1265</td>\n",
       "    </tr>\n",
       "    <tr>\n",
       "      <th>3</th>\n",
       "      <td>New Delhi</td>\n",
       "      <td>932</td>\n",
       "    </tr>\n",
       "    <tr>\n",
       "      <th>4</th>\n",
       "      <td>Hyderabad</td>\n",
       "      <td>697</td>\n",
       "    </tr>\n",
       "    <tr>\n",
       "      <th>5</th>\n",
       "      <td>Kolkata</td>\n",
       "      <td>381</td>\n",
       "    </tr>\n",
       "  </tbody>\n",
       "</table>\n",
       "</div>"
      ],
      "text/plain": [
       "  Destination  No. of flights\n",
       "0      Cochin            4536\n",
       "1    Banglore            2871\n",
       "2       Delhi            1265\n",
       "3   New Delhi             932\n",
       "4   Hyderabad             697\n",
       "5     Kolkata             381"
      ]
     },
     "execution_count": 23,
     "metadata": {},
     "output_type": "execute_result"
    }
   ],
   "source": [
    "# piechart plot to show destination and number of flights recorded\n",
    "dest = online_data['Destination'].value_counts().reset_index()\n",
    "dest.columns = ['Destination', \"No. of flights\"]\n",
    "dest"
   ]
  },
  {
   "cell_type": "code",
   "execution_count": 24,
   "id": "8edb56f2",
   "metadata": {},
   "outputs": [
    {
     "data": {
      "image/png": "[encoded data removed]",
      "text/plain": [
       "<Figure size 648x504 with 1 Axes>"
      ]
     },
     "metadata": {},
     "output_type": "display_data"
    }
   ],
   "source": [
    "plt.figure(figsize=(9,7))\n",
    "plt.pie(dest['No. of flights'], labels=dest['Destination'], autopct='%1.1f%%')\n",
    "plt.show()"
   ]
  },
  {
   "cell_type": "markdown",
   "id": "c5b30f11",
   "metadata": {},
   "source": [
    "From the pie chart, Cochin records the most flights arriving at its airport. "
   ]
  },
  {
   "cell_type": "markdown",
   "id": "7a1f0626",
   "metadata": {},
   "source": [
    "### Which route does Jet Airways use frequently?"
   ]
  },
  {
   "cell_type": "code",
   "execution_count": 25,
   "id": "66481923",
   "metadata": {},
   "outputs": [
    {
     "name": "stdout",
     "output_type": "stream",
     "text": [
      "Route\n",
      "CCU → BOM → BLR          930\n",
      "DEL → BOM → COK          875\n",
      "BLR → BOM → DEL          385\n",
      "BLR → DEL                382\n",
      "CCU → DEL → BLR          300\n",
      "BOM → HYD                207\n",
      "DEL → JAI → BOM → COK    207\n",
      "DEL → AMD → BOM → COK    141\n",
      "DEL → IDR → BOM → COK     86\n",
      "DEL → NAG → BOM → COK     61\n",
      "DEL → ATQ → BOM → COK     38\n",
      "DEL → COK                 34\n",
      "DEL → BHO → BOM → COK     29\n",
      "DEL → BDQ → BOM → COK     28\n",
      "DEL → LKO → BOM → COK     25\n",
      "DEL → JDH → BOM → COK     23\n",
      "CCU → GAU → BLR           22\n",
      "DEL → MAA → BOM → COK     16\n",
      "DEL → IXC → BOM → COK     13\n",
      "BLR → MAA → DEL           10\n",
      "BLR → BDQ → DEL            8\n",
      "DEL → UDR → BOM → COK      7\n",
      "BOM → DEL → HYD            5\n",
      "CCU → BOM → PNQ → BLR      4\n",
      "BLR → BOM → JDH → DEL      3\n",
      "DEL → DED → BOM → COK      2\n",
      "BOM → BDQ → DEL → HYD      2\n",
      "DEL → CCU → BOM → COK      1\n",
      "BOM → VNS → DEL → HYD      1\n",
      "BOM → UDR → DEL → HYD      1\n",
      "BOM → JDH → DEL → HYD      1\n",
      "BOM → IDR → DEL → HYD      1\n",
      "BOM → DED → DEL → HYD      1\n",
      "dtype: int64\n",
      "\n",
      "The route Jet Airways use often is Route\n",
      "CCU → BOM → BLR    930\n",
      "dtype: int64\n"
     ]
    }
   ],
   "source": [
    "# Finding the route jet airways use often\n",
    "jet = online_data[online_data[\"Airline\"]  == 'Jet Airways'].groupby('Route').size()\n",
    "#groupby.size returns number of rows for each group\n",
    "print(jet.sort_values(ascending=False))\n",
    "print()\n",
    "print(\"The route Jet Airways use often is {}\".format(jet.sort_values(ascending=False).head(1)))"
   ]
  },
  {
   "cell_type": "markdown",
   "id": "ebf6c05b",
   "metadata": {},
   "source": [
    "### What is the average price for each airline?"
   ]
  },
  {
   "cell_type": "code",
   "execution_count": 26,
   "id": "edd6260c",
   "metadata": {},
   "outputs": [
    {
     "data": {
      "text/plain": [
       "Airline\n",
       "Air Asia                              5590.260188\n",
       "Air India                             9612.427756\n",
       "GoAir                                 5861.056701\n",
       "IndiGo                                5673.682903\n",
       "Jet Airways                          11643.923357\n",
       "Jet Airways Business                 58358.666667\n",
       "Multiple carriers                    10902.678094\n",
       "Multiple carriers Premium economy    11418.846154\n",
       "SpiceJet                              4338.284841\n",
       "Trujet                                4140.000000\n",
       "Vistara                               7796.348643\n",
       "Vistara Premium economy               8962.333333\n",
       "Name: Price, dtype: float64"
      ]
     },
     "execution_count": 26,
     "metadata": {},
     "output_type": "execute_result"
    }
   ],
   "source": [
    "# finding relationship between airlines and average ticket price\n",
    "airline_price = online_data.groupby('Airline')['Price'].mean()\n",
    "airline_price"
   ]
  },
  {
   "cell_type": "code",
   "execution_count": 27,
   "id": "1b1b98f4",
   "metadata": {},
   "outputs": [
    {
     "data": {
      "text/plain": [
       "Airline\n",
       "Jet Airways Business    58358.666667\n",
       "Name: Price, dtype: float64"
      ]
     },
     "execution_count": 27,
     "metadata": {},
     "output_type": "execute_result"
    }
   ],
   "source": [
    "# finding out which airline average ticket price is highest \n",
    "airline_price.sort_values(ascending=False).head(1)"
   ]
  },
  {
   "cell_type": "markdown",
   "id": "3ecf7506",
   "metadata": {},
   "source": [
    "Jet Airways Business happens to have the highest average ticket price for a flight"
   ]
  },
  {
   "cell_type": "code",
   "execution_count": 28,
   "id": "7d24bff8",
   "metadata": {},
   "outputs": [
    {
     "data": {
      "text/plain": [
       "Text(0.5, 1.0, 'Airline Avg Price')"
      ]
     },
     "execution_count": 28,
     "metadata": {},
     "output_type": "execute_result"
    },
    {
     "data": {
      "image/png": "[encoded data removed]",
      "text/plain": [
       "<Figure size 1080x648 with 1 Axes>"
      ]
     },
     "metadata": {
      "needs_background": "light"
     },
     "output_type": "display_data"
    }
   ],
   "source": [
    "plt.figure(figsize=(15,9))\n",
    "sns.lineplot(x=online_data['Airline'], y=online_data['Price'], data=online_data)\n",
    "plt.annotate(\"maximum price\", xy=(\"Jet Airways Business\", 58358.666667), xytext=(\"GoAir\", 58358.666667),arrowprops=dict(facecolor='black', shrink=0.05))\n",
    "plt.xticks(rotation='vertical', fontsize=10)\n",
    "plt.title(\"Airline Avg Price\")"
   ]
  },
  {
   "cell_type": "code",
   "execution_count": 29,
   "id": "7216b1e8",
   "metadata": {},
   "outputs": [
    {
     "data": {
      "text/plain": [
       "(array([ 0,  1,  2,  3,  4,  5,  6,  7,  8,  9, 10, 11]),\n",
       " [Text(0, 0, 'IndiGo'),\n",
       "  Text(1, 0, 'Air India'),\n",
       "  Text(2, 0, 'Jet Airways'),\n",
       "  Text(3, 0, 'SpiceJet'),\n",
       "  Text(4, 0, 'Multiple carriers'),\n",
       "  Text(5, 0, 'GoAir'),\n",
       "  Text(6, 0, 'Vistara'),\n",
       "  Text(7, 0, 'Air Asia'),\n",
       "  Text(8, 0, 'Vistara Premium economy'),\n",
       "  Text(9, 0, 'Jet Airways Business'),\n",
       "  Text(10, 0, 'Multiple carriers Premium economy'),\n",
       "  Text(11, 0, 'Trujet')])"
      ]
     },
     "execution_count": 29,
     "metadata": {},
     "output_type": "execute_result"
    },
    {
     "data": {
      "image/png": "[encoded data removed]",
      "text/plain": [
       "<Figure size 1080x576 with 1 Axes>"
      ]
     },
     "metadata": {
      "needs_background": "light"
     },
     "output_type": "display_data"
    }
   ],
   "source": [
    "plt.figure(figsize=(15, 8))\n",
    "sns.boxplot(y='Price', x='Airline', data=online_data)\n",
    "plt.xticks(rotation='vertical')"
   ]
  },
  {
   "cell_type": "markdown",
   "id": "cb336ff8",
   "metadata": {},
   "source": [
    " As we can see there are outliers present in our price"
   ]
  },
  {
   "cell_type": "markdown",
   "id": "3f5306e8",
   "metadata": {},
   "source": [
    "### Building the Regression ML Model"
   ]
  },
  {
   "cell_type": "code",
   "execution_count": 30,
   "id": "341d4764",
   "metadata": {},
   "outputs": [],
   "source": [
    "# dropping features which will have no effect on the model\n",
    "list = ['DOJ_Year', 'Route', 'Additional_Info', 'Duration']\n",
    "for col in list:    \n",
    "    online_data.drop(col, axis=1, inplace=True)"
   ]
  },
  {
   "cell_type": "code",
   "execution_count": 31,
   "id": "244046b5",
   "metadata": {},
   "outputs": [
    {
     "name": "stdout",
     "output_type": "stream",
     "text": [
      "['Airline', 'Source', 'Destination', 'Total_Stops']\n",
      "\n",
      "['Price', 'DOJ_Month', 'DOJ_Day', 'Dep_Time_Hour', 'Dep_Time_Min', 'Arrival_Time_Hour', 'Arrival_Time_Min', 'Duration_hour', 'Duration_min']\n"
     ]
    }
   ],
   "source": [
    "# separating features into categorical and numerical\n",
    "categorical = []\n",
    "for col in online_data.columns:\n",
    "    if online_data[col].dtype == \"O\":\n",
    "        categorical.append(col)\n",
    "print(categorical)\n",
    "print()\n",
    "\n",
    "numerical = []\n",
    "for col in online_data.columns:\n",
    "    if online_data[col].dtype != \"O\":\n",
    "        numerical.append(col)\n",
    "print(numerical)"
   ]
  },
  {
   "cell_type": "code",
   "execution_count": 32,
   "id": "77affd3c",
   "metadata": {},
   "outputs": [
    {
     "name": "stdout",
     "output_type": "stream",
     "text": [
      "Airline\n",
      "['IndiGo' 'Air India' 'Jet Airways' 'SpiceJet' 'Multiple carriers' 'GoAir'\n",
      " 'Vistara' 'Air Asia' 'Vistara Premium economy' 'Jet Airways Business'\n",
      " 'Multiple carriers Premium economy' 'Trujet']\n",
      "\n",
      "Source\n",
      "['Banglore' 'Kolkata' 'Delhi' 'Chennai' 'Mumbai']\n",
      "\n",
      "Destination\n",
      "['New Delhi' 'Banglore' 'Cochin' 'Kolkata' 'Delhi' 'Hyderabad']\n",
      "\n",
      "Total_Stops\n",
      "['non-stop' '2 stops' '1 stop' '3 stops' '4 stops']\n",
      "\n"
     ]
    }
   ],
   "source": [
    "# feature encoding on categorical features\n",
    "for feature in categorical:   \n",
    "    print(feature)\n",
    "    print(online_data[feature].unique())\n",
    "    print()"
   ]
  },
  {
   "cell_type": "code",
   "execution_count": 33,
   "id": "bb8530ea",
   "metadata": {},
   "outputs": [],
   "source": [
    "# Applying one hot feature encoding on Source categorical feature\n",
    "for feature in online_data['Source'].unique():\n",
    "    online_data['Source_'+feature] = online_data['Source'].apply(lambda x: 1 if x==feature else 0)"
   ]
  },
  {
   "cell_type": "code",
   "execution_count": 34,
   "id": "3b09bf49",
   "metadata": {},
   "outputs": [
    {
     "data": {
      "text/html": [
       "<div>\n",
       "<style scoped>\n",
       "    .dataframe tbody tr th:only-of-type {\n",
       "        vertical-align: middle;\n",
       "    }\n",
       "\n",
       "    .dataframe tbody tr th {\n",
       "        vertical-align: top;\n",
       "    }\n",
       "\n",
       "    .dataframe thead th {\n",
       "        text-align: right;\n",
       "    }\n",
       "</style>\n",
       "<table border=\"1\" class=\"dataframe\">\n",
       "  <thead>\n",
       "    <tr style=\"text-align: right;\">\n",
       "      <th></th>\n",
       "      <th>Airline</th>\n",
       "      <th>Source</th>\n",
       "      <th>Destination</th>\n",
       "      <th>Total_Stops</th>\n",
       "      <th>Price</th>\n",
       "      <th>DOJ_Month</th>\n",
       "      <th>DOJ_Day</th>\n",
       "      <th>Dep_Time_Hour</th>\n",
       "      <th>Dep_Time_Min</th>\n",
       "      <th>Arrival_Time_Hour</th>\n",
       "      <th>Arrival_Time_Min</th>\n",
       "      <th>Duration_hour</th>\n",
       "      <th>Duration_min</th>\n",
       "      <th>Source_Banglore</th>\n",
       "      <th>Source_Kolkata</th>\n",
       "      <th>Source_Delhi</th>\n",
       "      <th>Source_Chennai</th>\n",
       "      <th>Source_Mumbai</th>\n",
       "    </tr>\n",
       "  </thead>\n",
       "  <tbody>\n",
       "    <tr>\n",
       "      <th>0</th>\n",
       "      <td>IndiGo</td>\n",
       "      <td>Banglore</td>\n",
       "      <td>New Delhi</td>\n",
       "      <td>non-stop</td>\n",
       "      <td>3897</td>\n",
       "      <td>3</td>\n",
       "      <td>24</td>\n",
       "      <td>22</td>\n",
       "      <td>20</td>\n",
       "      <td>1</td>\n",
       "      <td>10</td>\n",
       "      <td>2</td>\n",
       "      <td>7</td>\n",
       "      <td>1</td>\n",
       "      <td>0</td>\n",
       "      <td>0</td>\n",
       "      <td>0</td>\n",
       "      <td>0</td>\n",
       "    </tr>\n",
       "    <tr>\n",
       "      <th>1</th>\n",
       "      <td>Air India</td>\n",
       "      <td>Kolkata</td>\n",
       "      <td>Banglore</td>\n",
       "      <td>2 stops</td>\n",
       "      <td>7662</td>\n",
       "      <td>1</td>\n",
       "      <td>5</td>\n",
       "      <td>5</td>\n",
       "      <td>50</td>\n",
       "      <td>13</td>\n",
       "      <td>15</td>\n",
       "      <td>2</td>\n",
       "      <td>7</td>\n",
       "      <td>0</td>\n",
       "      <td>1</td>\n",
       "      <td>0</td>\n",
       "      <td>0</td>\n",
       "      <td>0</td>\n",
       "    </tr>\n",
       "    <tr>\n",
       "      <th>2</th>\n",
       "      <td>Jet Airways</td>\n",
       "      <td>Delhi</td>\n",
       "      <td>Cochin</td>\n",
       "      <td>2 stops</td>\n",
       "      <td>13882</td>\n",
       "      <td>9</td>\n",
       "      <td>6</td>\n",
       "      <td>9</td>\n",
       "      <td>25</td>\n",
       "      <td>4</td>\n",
       "      <td>25</td>\n",
       "      <td>2</td>\n",
       "      <td>7</td>\n",
       "      <td>0</td>\n",
       "      <td>0</td>\n",
       "      <td>1</td>\n",
       "      <td>0</td>\n",
       "      <td>0</td>\n",
       "    </tr>\n",
       "    <tr>\n",
       "      <th>3</th>\n",
       "      <td>IndiGo</td>\n",
       "      <td>Kolkata</td>\n",
       "      <td>Banglore</td>\n",
       "      <td>1 stop</td>\n",
       "      <td>6218</td>\n",
       "      <td>12</td>\n",
       "      <td>5</td>\n",
       "      <td>18</td>\n",
       "      <td>5</td>\n",
       "      <td>23</td>\n",
       "      <td>30</td>\n",
       "      <td>2</td>\n",
       "      <td>7</td>\n",
       "      <td>0</td>\n",
       "      <td>1</td>\n",
       "      <td>0</td>\n",
       "      <td>0</td>\n",
       "      <td>0</td>\n",
       "    </tr>\n",
       "    <tr>\n",
       "      <th>4</th>\n",
       "      <td>IndiGo</td>\n",
       "      <td>Banglore</td>\n",
       "      <td>New Delhi</td>\n",
       "      <td>1 stop</td>\n",
       "      <td>13302</td>\n",
       "      <td>1</td>\n",
       "      <td>3</td>\n",
       "      <td>16</td>\n",
       "      <td>50</td>\n",
       "      <td>21</td>\n",
       "      <td>35</td>\n",
       "      <td>2</td>\n",
       "      <td>7</td>\n",
       "      <td>1</td>\n",
       "      <td>0</td>\n",
       "      <td>0</td>\n",
       "      <td>0</td>\n",
       "      <td>0</td>\n",
       "    </tr>\n",
       "  </tbody>\n",
       "</table>\n",
       "</div>"
      ],
      "text/plain": [
       "       Airline    Source Destination Total_Stops  Price  DOJ_Month  DOJ_Day  \\\n",
       "0       IndiGo  Banglore   New Delhi    non-stop   3897          3       24   \n",
       "1    Air India   Kolkata    Banglore     2 stops   7662          1        5   \n",
       "2  Jet Airways     Delhi      Cochin     2 stops  13882          9        6   \n",
       "3       IndiGo   Kolkata    Banglore      1 stop   6218         12        5   \n",
       "4       IndiGo  Banglore   New Delhi      1 stop  13302          1        3   \n",
       "\n",
       "   Dep_Time_Hour  Dep_Time_Min  Arrival_Time_Hour  Arrival_Time_Min  \\\n",
       "0             22            20                  1                10   \n",
       "1              5            50                 13                15   \n",
       "2              9            25                  4                25   \n",
       "3             18             5                 23                30   \n",
       "4             16            50                 21                35   \n",
       "\n",
       "   Duration_hour  Duration_min  Source_Banglore  Source_Kolkata  Source_Delhi  \\\n",
       "0              2             7                1               0             0   \n",
       "1              2             7                0               1             0   \n",
       "2              2             7                0               0             1   \n",
       "3              2             7                0               1             0   \n",
       "4              2             7                1               0             0   \n",
       "\n",
       "   Source_Chennai  Source_Mumbai  \n",
       "0               0              0  \n",
       "1               0              0  \n",
       "2               0              0  \n",
       "3               0              0  \n",
       "4               0              0  "
      ]
     },
     "execution_count": 34,
     "metadata": {},
     "output_type": "execute_result"
    }
   ],
   "source": [
    "online_data.head()"
   ]
  },
  {
   "cell_type": "code",
   "execution_count": 35,
   "id": "b5f5c0e3",
   "metadata": {},
   "outputs": [],
   "source": [
    "# applying label/ordinal encoding on the Total Stops feature\n",
    "stops = {'non-stop':0, '2 stops':2, '1 stop':1, '3 stops':3, '4 stops':4}\n",
    "online_data['Total_Stops'] = online_data['Total_Stops'].map(stops)"
   ]
  },
  {
   "cell_type": "code",
   "execution_count": 36,
   "id": "658e567d",
   "metadata": {},
   "outputs": [
    {
     "data": {
      "text/html": [
       "<div>\n",
       "<style scoped>\n",
       "    .dataframe tbody tr th:only-of-type {\n",
       "        vertical-align: middle;\n",
       "    }\n",
       "\n",
       "    .dataframe tbody tr th {\n",
       "        vertical-align: top;\n",
       "    }\n",
       "\n",
       "    .dataframe thead th {\n",
       "        text-align: right;\n",
       "    }\n",
       "</style>\n",
       "<table border=\"1\" class=\"dataframe\">\n",
       "  <thead>\n",
       "    <tr style=\"text-align: right;\">\n",
       "      <th></th>\n",
       "      <th>Airline</th>\n",
       "      <th>Source</th>\n",
       "      <th>Destination</th>\n",
       "      <th>Total_Stops</th>\n",
       "      <th>Price</th>\n",
       "      <th>DOJ_Month</th>\n",
       "      <th>DOJ_Day</th>\n",
       "      <th>Dep_Time_Hour</th>\n",
       "      <th>Dep_Time_Min</th>\n",
       "      <th>Arrival_Time_Hour</th>\n",
       "      <th>Arrival_Time_Min</th>\n",
       "      <th>Duration_hour</th>\n",
       "      <th>Duration_min</th>\n",
       "      <th>Source_Banglore</th>\n",
       "      <th>Source_Kolkata</th>\n",
       "      <th>Source_Delhi</th>\n",
       "      <th>Source_Chennai</th>\n",
       "      <th>Source_Mumbai</th>\n",
       "    </tr>\n",
       "  </thead>\n",
       "  <tbody>\n",
       "    <tr>\n",
       "      <th>0</th>\n",
       "      <td>IndiGo</td>\n",
       "      <td>Banglore</td>\n",
       "      <td>New Delhi</td>\n",
       "      <td>0</td>\n",
       "      <td>3897</td>\n",
       "      <td>3</td>\n",
       "      <td>24</td>\n",
       "      <td>22</td>\n",
       "      <td>20</td>\n",
       "      <td>1</td>\n",
       "      <td>10</td>\n",
       "      <td>2</td>\n",
       "      <td>7</td>\n",
       "      <td>1</td>\n",
       "      <td>0</td>\n",
       "      <td>0</td>\n",
       "      <td>0</td>\n",
       "      <td>0</td>\n",
       "    </tr>\n",
       "    <tr>\n",
       "      <th>1</th>\n",
       "      <td>Air India</td>\n",
       "      <td>Kolkata</td>\n",
       "      <td>Banglore</td>\n",
       "      <td>2</td>\n",
       "      <td>7662</td>\n",
       "      <td>1</td>\n",
       "      <td>5</td>\n",
       "      <td>5</td>\n",
       "      <td>50</td>\n",
       "      <td>13</td>\n",
       "      <td>15</td>\n",
       "      <td>2</td>\n",
       "      <td>7</td>\n",
       "      <td>0</td>\n",
       "      <td>1</td>\n",
       "      <td>0</td>\n",
       "      <td>0</td>\n",
       "      <td>0</td>\n",
       "    </tr>\n",
       "  </tbody>\n",
       "</table>\n",
       "</div>"
      ],
      "text/plain": [
       "     Airline    Source Destination  Total_Stops  Price  DOJ_Month  DOJ_Day  \\\n",
       "0     IndiGo  Banglore   New Delhi            0   3897          3       24   \n",
       "1  Air India   Kolkata    Banglore            2   7662          1        5   \n",
       "\n",
       "   Dep_Time_Hour  Dep_Time_Min  Arrival_Time_Hour  Arrival_Time_Min  \\\n",
       "0             22            20                  1                10   \n",
       "1              5            50                 13                15   \n",
       "\n",
       "   Duration_hour  Duration_min  Source_Banglore  Source_Kolkata  Source_Delhi  \\\n",
       "0              2             7                1               0             0   \n",
       "1              2             7                0               1             0   \n",
       "\n",
       "   Source_Chennai  Source_Mumbai  \n",
       "0               0              0  \n",
       "1               0              0  "
      ]
     },
     "execution_count": 36,
     "metadata": {},
     "output_type": "execute_result"
    }
   ],
   "source": [
    "online_data.head(2)"
   ]
  },
  {
   "cell_type": "code",
   "execution_count": 37,
   "id": "68044b32",
   "metadata": {},
   "outputs": [
    {
     "data": {
      "text/plain": [
       "Index(['Trujet', 'SpiceJet', 'Air Asia', 'IndiGo', 'GoAir', 'Vistara',\n",
       "       'Vistara Premium economy', 'Air India', 'Multiple carriers',\n",
       "       'Multiple carriers Premium economy', 'Jet Airways',\n",
       "       'Jet Airways Business'],\n",
       "      dtype='object', name='Airline')"
      ]
     },
     "execution_count": 37,
     "metadata": {},
     "output_type": "execute_result"
    }
   ],
   "source": [
    "# applying mean encoding on the Airline feature\n",
    "airlines = online_data.groupby('Airline')['Price'].mean().sort_values().index\n",
    "airlines"
   ]
  },
  {
   "cell_type": "code",
   "execution_count": 38,
   "id": "c67f13e0",
   "metadata": {},
   "outputs": [
    {
     "data": {
      "text/plain": [
       "{'Trujet': 0,\n",
       " 'SpiceJet': 1,\n",
       " 'Air Asia': 2,\n",
       " 'IndiGo': 3,\n",
       " 'GoAir': 4,\n",
       " 'Vistara': 5,\n",
       " 'Vistara Premium economy': 6,\n",
       " 'Air India': 7,\n",
       " 'Multiple carriers': 8,\n",
       " 'Multiple carriers Premium economy': 9,\n",
       " 'Jet Airways': 10,\n",
       " 'Jet Airways Business': 11}"
      ]
     },
     "execution_count": 38,
     "metadata": {},
     "output_type": "execute_result"
    }
   ],
   "source": [
    "dict = {value:i for i, value in enumerate(airlines,0)}\n",
    "dict"
   ]
  },
  {
   "cell_type": "code",
   "execution_count": 39,
   "id": "e4a9466e",
   "metadata": {},
   "outputs": [
    {
     "data": {
      "text/plain": [
       "0         3\n",
       "1         7\n",
       "2        10\n",
       "3         3\n",
       "4         3\n",
       "         ..\n",
       "10678     2\n",
       "10679     7\n",
       "10680    10\n",
       "10681     5\n",
       "10682     7\n",
       "Name: Airline, Length: 10682, dtype: int64"
      ]
     },
     "execution_count": 39,
     "metadata": {},
     "output_type": "execute_result"
    }
   ],
   "source": [
    "online_data[\"Airline\"] = online_data['Airline'].map(dict)\n",
    "online_data['Airline']"
   ]
  },
  {
   "cell_type": "code",
   "execution_count": 40,
   "id": "796122de",
   "metadata": {},
   "outputs": [
    {
     "data": {
      "text/html": [
       "<div>\n",
       "<style scoped>\n",
       "    .dataframe tbody tr th:only-of-type {\n",
       "        vertical-align: middle;\n",
       "    }\n",
       "\n",
       "    .dataframe tbody tr th {\n",
       "        vertical-align: top;\n",
       "    }\n",
       "\n",
       "    .dataframe thead th {\n",
       "        text-align: right;\n",
       "    }\n",
       "</style>\n",
       "<table border=\"1\" class=\"dataframe\">\n",
       "  <thead>\n",
       "    <tr style=\"text-align: right;\">\n",
       "      <th></th>\n",
       "      <th>Airline</th>\n",
       "      <th>Source</th>\n",
       "      <th>Destination</th>\n",
       "      <th>Total_Stops</th>\n",
       "      <th>Price</th>\n",
       "      <th>DOJ_Month</th>\n",
       "      <th>DOJ_Day</th>\n",
       "      <th>Dep_Time_Hour</th>\n",
       "      <th>Dep_Time_Min</th>\n",
       "      <th>Arrival_Time_Hour</th>\n",
       "      <th>Arrival_Time_Min</th>\n",
       "      <th>Duration_hour</th>\n",
       "      <th>Duration_min</th>\n",
       "      <th>Source_Banglore</th>\n",
       "      <th>Source_Kolkata</th>\n",
       "      <th>Source_Delhi</th>\n",
       "      <th>Source_Chennai</th>\n",
       "      <th>Source_Mumbai</th>\n",
       "    </tr>\n",
       "  </thead>\n",
       "  <tbody>\n",
       "    <tr>\n",
       "      <th>0</th>\n",
       "      <td>3</td>\n",
       "      <td>Banglore</td>\n",
       "      <td>5</td>\n",
       "      <td>0</td>\n",
       "      <td>3897</td>\n",
       "      <td>3</td>\n",
       "      <td>24</td>\n",
       "      <td>22</td>\n",
       "      <td>20</td>\n",
       "      <td>1</td>\n",
       "      <td>10</td>\n",
       "      <td>2</td>\n",
       "      <td>7</td>\n",
       "      <td>1</td>\n",
       "      <td>0</td>\n",
       "      <td>0</td>\n",
       "      <td>0</td>\n",
       "      <td>0</td>\n",
       "    </tr>\n",
       "    <tr>\n",
       "      <th>1</th>\n",
       "      <td>7</td>\n",
       "      <td>Kolkata</td>\n",
       "      <td>3</td>\n",
       "      <td>2</td>\n",
       "      <td>7662</td>\n",
       "      <td>1</td>\n",
       "      <td>5</td>\n",
       "      <td>5</td>\n",
       "      <td>50</td>\n",
       "      <td>13</td>\n",
       "      <td>15</td>\n",
       "      <td>2</td>\n",
       "      <td>7</td>\n",
       "      <td>0</td>\n",
       "      <td>1</td>\n",
       "      <td>0</td>\n",
       "      <td>0</td>\n",
       "      <td>0</td>\n",
       "    </tr>\n",
       "    <tr>\n",
       "      <th>2</th>\n",
       "      <td>10</td>\n",
       "      <td>Delhi</td>\n",
       "      <td>4</td>\n",
       "      <td>2</td>\n",
       "      <td>13882</td>\n",
       "      <td>9</td>\n",
       "      <td>6</td>\n",
       "      <td>9</td>\n",
       "      <td>25</td>\n",
       "      <td>4</td>\n",
       "      <td>25</td>\n",
       "      <td>2</td>\n",
       "      <td>7</td>\n",
       "      <td>0</td>\n",
       "      <td>0</td>\n",
       "      <td>1</td>\n",
       "      <td>0</td>\n",
       "      <td>0</td>\n",
       "    </tr>\n",
       "    <tr>\n",
       "      <th>3</th>\n",
       "      <td>3</td>\n",
       "      <td>Kolkata</td>\n",
       "      <td>3</td>\n",
       "      <td>1</td>\n",
       "      <td>6218</td>\n",
       "      <td>12</td>\n",
       "      <td>5</td>\n",
       "      <td>18</td>\n",
       "      <td>5</td>\n",
       "      <td>23</td>\n",
       "      <td>30</td>\n",
       "      <td>2</td>\n",
       "      <td>7</td>\n",
       "      <td>0</td>\n",
       "      <td>1</td>\n",
       "      <td>0</td>\n",
       "      <td>0</td>\n",
       "      <td>0</td>\n",
       "    </tr>\n",
       "    <tr>\n",
       "      <th>4</th>\n",
       "      <td>3</td>\n",
       "      <td>Banglore</td>\n",
       "      <td>5</td>\n",
       "      <td>1</td>\n",
       "      <td>13302</td>\n",
       "      <td>1</td>\n",
       "      <td>3</td>\n",
       "      <td>16</td>\n",
       "      <td>50</td>\n",
       "      <td>21</td>\n",
       "      <td>35</td>\n",
       "      <td>2</td>\n",
       "      <td>7</td>\n",
       "      <td>1</td>\n",
       "      <td>0</td>\n",
       "      <td>0</td>\n",
       "      <td>0</td>\n",
       "      <td>0</td>\n",
       "    </tr>\n",
       "  </tbody>\n",
       "</table>\n",
       "</div>"
      ],
      "text/plain": [
       "   Airline    Source  Destination  Total_Stops  Price  DOJ_Month  DOJ_Day  \\\n",
       "0        3  Banglore            5            0   3897          3       24   \n",
       "1        7   Kolkata            3            2   7662          1        5   \n",
       "2       10     Delhi            4            2  13882          9        6   \n",
       "3        3   Kolkata            3            1   6218         12        5   \n",
       "4        3  Banglore            5            1  13302          1        3   \n",
       "\n",
       "   Dep_Time_Hour  Dep_Time_Min  Arrival_Time_Hour  Arrival_Time_Min  \\\n",
       "0             22            20                  1                10   \n",
       "1              5            50                 13                15   \n",
       "2              9            25                  4                25   \n",
       "3             18             5                 23                30   \n",
       "4             16            50                 21                35   \n",
       "\n",
       "   Duration_hour  Duration_min  Source_Banglore  Source_Kolkata  Source_Delhi  \\\n",
       "0              2             7                1               0             0   \n",
       "1              2             7                0               1             0   \n",
       "2              2             7                0               0             1   \n",
       "3              2             7                0               1             0   \n",
       "4              2             7                1               0             0   \n",
       "\n",
       "   Source_Chennai  Source_Mumbai  \n",
       "0               0              0  \n",
       "1               0              0  \n",
       "2               0              0  \n",
       "3               0              0  \n",
       "4               0              0  "
      ]
     },
     "execution_count": 40,
     "metadata": {},
     "output_type": "execute_result"
    }
   ],
   "source": [
    "# applying mean encoding on Destination feature\n",
    "dest = online_data.groupby('Destination')['Price'].mean().sort_values().index\n",
    "dict2 = {feature:i for i,feature in enumerate(dest,0)}\n",
    "online_data['Destination'] = online_data['Destination'].map(dict2)\n",
    "online_data.head()"
   ]
  },
  {
   "cell_type": "code",
   "execution_count": 41,
   "id": "33d30cd6",
   "metadata": {},
   "outputs": [],
   "source": [
    "online_data.drop('Source', axis=1, inplace=True)"
   ]
  },
  {
   "cell_type": "code",
   "execution_count": 42,
   "id": "2fef3d8a",
   "metadata": {},
   "outputs": [
    {
     "data": {
      "text/html": [
       "<div>\n",
       "<style scoped>\n",
       "    .dataframe tbody tr th:only-of-type {\n",
       "        vertical-align: middle;\n",
       "    }\n",
       "\n",
       "    .dataframe tbody tr th {\n",
       "        vertical-align: top;\n",
       "    }\n",
       "\n",
       "    .dataframe thead th {\n",
       "        text-align: right;\n",
       "    }\n",
       "</style>\n",
       "<table border=\"1\" class=\"dataframe\">\n",
       "  <thead>\n",
       "    <tr style=\"text-align: right;\">\n",
       "      <th></th>\n",
       "      <th>Airline</th>\n",
       "      <th>Destination</th>\n",
       "      <th>Total_Stops</th>\n",
       "      <th>Price</th>\n",
       "      <th>DOJ_Month</th>\n",
       "      <th>DOJ_Day</th>\n",
       "      <th>Dep_Time_Hour</th>\n",
       "      <th>Dep_Time_Min</th>\n",
       "      <th>Arrival_Time_Hour</th>\n",
       "      <th>Arrival_Time_Min</th>\n",
       "      <th>Duration_hour</th>\n",
       "      <th>Duration_min</th>\n",
       "      <th>Source_Banglore</th>\n",
       "      <th>Source_Kolkata</th>\n",
       "      <th>Source_Delhi</th>\n",
       "      <th>Source_Chennai</th>\n",
       "      <th>Source_Mumbai</th>\n",
       "    </tr>\n",
       "  </thead>\n",
       "  <tbody>\n",
       "    <tr>\n",
       "      <th>0</th>\n",
       "      <td>3</td>\n",
       "      <td>5</td>\n",
       "      <td>0</td>\n",
       "      <td>3897</td>\n",
       "      <td>3</td>\n",
       "      <td>24</td>\n",
       "      <td>22</td>\n",
       "      <td>20</td>\n",
       "      <td>1</td>\n",
       "      <td>10</td>\n",
       "      <td>2</td>\n",
       "      <td>7</td>\n",
       "      <td>1</td>\n",
       "      <td>0</td>\n",
       "      <td>0</td>\n",
       "      <td>0</td>\n",
       "      <td>0</td>\n",
       "    </tr>\n",
       "    <tr>\n",
       "      <th>1</th>\n",
       "      <td>7</td>\n",
       "      <td>3</td>\n",
       "      <td>2</td>\n",
       "      <td>7662</td>\n",
       "      <td>1</td>\n",
       "      <td>5</td>\n",
       "      <td>5</td>\n",
       "      <td>50</td>\n",
       "      <td>13</td>\n",
       "      <td>15</td>\n",
       "      <td>2</td>\n",
       "      <td>7</td>\n",
       "      <td>0</td>\n",
       "      <td>1</td>\n",
       "      <td>0</td>\n",
       "      <td>0</td>\n",
       "      <td>0</td>\n",
       "    </tr>\n",
       "    <tr>\n",
       "      <th>2</th>\n",
       "      <td>10</td>\n",
       "      <td>4</td>\n",
       "      <td>2</td>\n",
       "      <td>13882</td>\n",
       "      <td>9</td>\n",
       "      <td>6</td>\n",
       "      <td>9</td>\n",
       "      <td>25</td>\n",
       "      <td>4</td>\n",
       "      <td>25</td>\n",
       "      <td>2</td>\n",
       "      <td>7</td>\n",
       "      <td>0</td>\n",
       "      <td>0</td>\n",
       "      <td>1</td>\n",
       "      <td>0</td>\n",
       "      <td>0</td>\n",
       "    </tr>\n",
       "    <tr>\n",
       "      <th>3</th>\n",
       "      <td>3</td>\n",
       "      <td>3</td>\n",
       "      <td>1</td>\n",
       "      <td>6218</td>\n",
       "      <td>12</td>\n",
       "      <td>5</td>\n",
       "      <td>18</td>\n",
       "      <td>5</td>\n",
       "      <td>23</td>\n",
       "      <td>30</td>\n",
       "      <td>2</td>\n",
       "      <td>7</td>\n",
       "      <td>0</td>\n",
       "      <td>1</td>\n",
       "      <td>0</td>\n",
       "      <td>0</td>\n",
       "      <td>0</td>\n",
       "    </tr>\n",
       "    <tr>\n",
       "      <th>4</th>\n",
       "      <td>3</td>\n",
       "      <td>5</td>\n",
       "      <td>1</td>\n",
       "      <td>13302</td>\n",
       "      <td>1</td>\n",
       "      <td>3</td>\n",
       "      <td>16</td>\n",
       "      <td>50</td>\n",
       "      <td>21</td>\n",
       "      <td>35</td>\n",
       "      <td>2</td>\n",
       "      <td>7</td>\n",
       "      <td>1</td>\n",
       "      <td>0</td>\n",
       "      <td>0</td>\n",
       "      <td>0</td>\n",
       "      <td>0</td>\n",
       "    </tr>\n",
       "  </tbody>\n",
       "</table>\n",
       "</div>"
      ],
      "text/plain": [
       "   Airline  Destination  Total_Stops  Price  DOJ_Month  DOJ_Day  \\\n",
       "0        3            5            0   3897          3       24   \n",
       "1        7            3            2   7662          1        5   \n",
       "2       10            4            2  13882          9        6   \n",
       "3        3            3            1   6218         12        5   \n",
       "4        3            5            1  13302          1        3   \n",
       "\n",
       "   Dep_Time_Hour  Dep_Time_Min  Arrival_Time_Hour  Arrival_Time_Min  \\\n",
       "0             22            20                  1                10   \n",
       "1              5            50                 13                15   \n",
       "2              9            25                  4                25   \n",
       "3             18             5                 23                30   \n",
       "4             16            50                 21                35   \n",
       "\n",
       "   Duration_hour  Duration_min  Source_Banglore  Source_Kolkata  Source_Delhi  \\\n",
       "0              2             7                1               0             0   \n",
       "1              2             7                0               1             0   \n",
       "2              2             7                0               0             1   \n",
       "3              2             7                0               1             0   \n",
       "4              2             7                1               0             0   \n",
       "\n",
       "   Source_Chennai  Source_Mumbai  \n",
       "0               0              0  \n",
       "1               0              0  \n",
       "2               0              0  \n",
       "3               0              0  \n",
       "4               0              0  "
      ]
     },
     "execution_count": 42,
     "metadata": {},
     "output_type": "execute_result"
    }
   ],
   "source": [
    "online_data.head(5)"
   ]
  },
  {
   "cell_type": "code",
   "execution_count": 43,
   "id": "f455f601",
   "metadata": {},
   "outputs": [
    {
     "data": {
      "image/png": "[encoded data removed]",
      "text/plain": [
       "<Figure size 360x360 with 1 Axes>"
      ]
     },
     "metadata": {
      "needs_background": "light"
     },
     "output_type": "display_data"
    }
   ],
   "source": [
    "# Handling outliers in Price feature as we observed earlier in the boxplot\n",
    "sns.displot(online_data[\"Price\"])\n",
    "online_data['Price'] = np.where(online_data['Price'] >= 35000, online_data['Price'].median(), online_data['Price'])\n"
   ]
  },
  {
   "cell_type": "code",
   "execution_count": 44,
   "id": "0ad076ae",
   "metadata": {},
   "outputs": [
    {
     "data": {
      "text/plain": [
       "<seaborn.axisgrid.FacetGrid at 0x249e448bb80>"
      ]
     },
     "execution_count": 44,
     "metadata": {},
     "output_type": "execute_result"
    },
    {
     "data": {
      "image/png": "[encoded data removed]",
      "text/plain": [
       "<Figure size 360x360 with 1 Axes>"
      ]
     },
     "metadata": {
      "needs_background": "light"
     },
     "output_type": "display_data"
    }
   ],
   "source": [
    "sns.displot(online_data[\"Price\"])"
   ]
  },
  {
   "cell_type": "markdown",
   "id": "697e6442",
   "metadata": {},
   "source": [
    " The distribution is no more right skewed as before"
   ]
  },
  {
   "cell_type": "code",
   "execution_count": 45,
   "id": "1c44cfac",
   "metadata": {},
   "outputs": [
    {
     "data": {
      "text/html": [
       "<div>\n",
       "<style scoped>\n",
       "    .dataframe tbody tr th:only-of-type {\n",
       "        vertical-align: middle;\n",
       "    }\n",
       "\n",
       "    .dataframe tbody tr th {\n",
       "        vertical-align: top;\n",
       "    }\n",
       "\n",
       "    .dataframe thead th {\n",
       "        text-align: right;\n",
       "    }\n",
       "</style>\n",
       "<table border=\"1\" class=\"dataframe\">\n",
       "  <thead>\n",
       "    <tr style=\"text-align: right;\">\n",
       "      <th></th>\n",
       "      <th>Airline</th>\n",
       "      <th>Destination</th>\n",
       "      <th>Total_Stops</th>\n",
       "      <th>Price</th>\n",
       "      <th>DOJ_Month</th>\n",
       "      <th>DOJ_Day</th>\n",
       "      <th>Dep_Time_Hour</th>\n",
       "      <th>Dep_Time_Min</th>\n",
       "      <th>Arrival_Time_Hour</th>\n",
       "      <th>Arrival_Time_Min</th>\n",
       "      <th>Duration_hour</th>\n",
       "      <th>Duration_min</th>\n",
       "      <th>Source_Banglore</th>\n",
       "      <th>Source_Kolkata</th>\n",
       "      <th>Source_Delhi</th>\n",
       "      <th>Source_Chennai</th>\n",
       "      <th>Source_Mumbai</th>\n",
       "    </tr>\n",
       "  </thead>\n",
       "  <tbody>\n",
       "    <tr>\n",
       "      <th>0</th>\n",
       "      <td>3</td>\n",
       "      <td>5</td>\n",
       "      <td>0</td>\n",
       "      <td>3897.0</td>\n",
       "      <td>3</td>\n",
       "      <td>24</td>\n",
       "      <td>22</td>\n",
       "      <td>20</td>\n",
       "      <td>1</td>\n",
       "      <td>10</td>\n",
       "      <td>2</td>\n",
       "      <td>7</td>\n",
       "      <td>1</td>\n",
       "      <td>0</td>\n",
       "      <td>0</td>\n",
       "      <td>0</td>\n",
       "      <td>0</td>\n",
       "    </tr>\n",
       "    <tr>\n",
       "      <th>1</th>\n",
       "      <td>7</td>\n",
       "      <td>3</td>\n",
       "      <td>2</td>\n",
       "      <td>7662.0</td>\n",
       "      <td>1</td>\n",
       "      <td>5</td>\n",
       "      <td>5</td>\n",
       "      <td>50</td>\n",
       "      <td>13</td>\n",
       "      <td>15</td>\n",
       "      <td>2</td>\n",
       "      <td>7</td>\n",
       "      <td>0</td>\n",
       "      <td>1</td>\n",
       "      <td>0</td>\n",
       "      <td>0</td>\n",
       "      <td>0</td>\n",
       "    </tr>\n",
       "    <tr>\n",
       "      <th>2</th>\n",
       "      <td>10</td>\n",
       "      <td>4</td>\n",
       "      <td>2</td>\n",
       "      <td>13882.0</td>\n",
       "      <td>9</td>\n",
       "      <td>6</td>\n",
       "      <td>9</td>\n",
       "      <td>25</td>\n",
       "      <td>4</td>\n",
       "      <td>25</td>\n",
       "      <td>2</td>\n",
       "      <td>7</td>\n",
       "      <td>0</td>\n",
       "      <td>0</td>\n",
       "      <td>1</td>\n",
       "      <td>0</td>\n",
       "      <td>0</td>\n",
       "    </tr>\n",
       "    <tr>\n",
       "      <th>3</th>\n",
       "      <td>3</td>\n",
       "      <td>3</td>\n",
       "      <td>1</td>\n",
       "      <td>6218.0</td>\n",
       "      <td>12</td>\n",
       "      <td>5</td>\n",
       "      <td>18</td>\n",
       "      <td>5</td>\n",
       "      <td>23</td>\n",
       "      <td>30</td>\n",
       "      <td>2</td>\n",
       "      <td>7</td>\n",
       "      <td>0</td>\n",
       "      <td>1</td>\n",
       "      <td>0</td>\n",
       "      <td>0</td>\n",
       "      <td>0</td>\n",
       "    </tr>\n",
       "    <tr>\n",
       "      <th>4</th>\n",
       "      <td>3</td>\n",
       "      <td>5</td>\n",
       "      <td>1</td>\n",
       "      <td>13302.0</td>\n",
       "      <td>1</td>\n",
       "      <td>3</td>\n",
       "      <td>16</td>\n",
       "      <td>50</td>\n",
       "      <td>21</td>\n",
       "      <td>35</td>\n",
       "      <td>2</td>\n",
       "      <td>7</td>\n",
       "      <td>1</td>\n",
       "      <td>0</td>\n",
       "      <td>0</td>\n",
       "      <td>0</td>\n",
       "      <td>0</td>\n",
       "    </tr>\n",
       "  </tbody>\n",
       "</table>\n",
       "</div>"
      ],
      "text/plain": [
       "   Airline  Destination  Total_Stops    Price  DOJ_Month  DOJ_Day  \\\n",
       "0        3            5            0   3897.0          3       24   \n",
       "1        7            3            2   7662.0          1        5   \n",
       "2       10            4            2  13882.0          9        6   \n",
       "3        3            3            1   6218.0         12        5   \n",
       "4        3            5            1  13302.0          1        3   \n",
       "\n",
       "   Dep_Time_Hour  Dep_Time_Min  Arrival_Time_Hour  Arrival_Time_Min  \\\n",
       "0             22            20                  1                10   \n",
       "1              5            50                 13                15   \n",
       "2              9            25                  4                25   \n",
       "3             18             5                 23                30   \n",
       "4             16            50                 21                35   \n",
       "\n",
       "   Duration_hour  Duration_min  Source_Banglore  Source_Kolkata  Source_Delhi  \\\n",
       "0              2             7                1               0             0   \n",
       "1              2             7                0               1             0   \n",
       "2              2             7                0               0             1   \n",
       "3              2             7                0               1             0   \n",
       "4              2             7                1               0             0   \n",
       "\n",
       "   Source_Chennai  Source_Mumbai  \n",
       "0               0              0  \n",
       "1               0              0  \n",
       "2               0              0  \n",
       "3               0              0  \n",
       "4               0              0  "
      ]
     },
     "execution_count": 45,
     "metadata": {},
     "output_type": "execute_result"
    }
   ],
   "source": [
    "online_data.head()"
   ]
  },
  {
   "cell_type": "code",
   "execution_count": 46,
   "id": "c1beb2af",
   "metadata": {},
   "outputs": [],
   "source": [
    "# extracting important features for the model\n",
    "from sklearn.feature_selection import mutual_info_regression"
   ]
  },
  {
   "cell_type": "code",
   "execution_count": 47,
   "id": "e6a8916d",
   "metadata": {},
   "outputs": [],
   "source": [
    "x = online_data.drop(\"Price\", axis=1)\n",
    "y = online_data['Price']"
   ]
  },
  {
   "cell_type": "code",
   "execution_count": 48,
   "id": "224013ca",
   "metadata": {},
   "outputs": [
    {
     "data": {
      "text/plain": [
       "array([0.97502484, 1.10518418, 0.78616507, 0.23062094, 0.19956446,\n",
       "       0.33958943, 0.25809859, 0.39342228, 0.34431965, 0.00562972,\n",
       "       0.00235019, 0.38960059, 0.45981005, 0.52516968, 0.13698636,\n",
       "       0.20189474])"
      ]
     },
     "execution_count": 48,
     "metadata": {},
     "output_type": "execute_result"
    }
   ],
   "source": [
    "mutual_info_regression(x,y)"
   ]
  },
  {
   "cell_type": "code",
   "execution_count": 49,
   "id": "a371719e",
   "metadata": {},
   "outputs": [
    {
     "data": {
      "text/html": [
       "<div>\n",
       "<style scoped>\n",
       "    .dataframe tbody tr th:only-of-type {\n",
       "        vertical-align: middle;\n",
       "    }\n",
       "\n",
       "    .dataframe tbody tr th {\n",
       "        vertical-align: top;\n",
       "    }\n",
       "\n",
       "    .dataframe thead th {\n",
       "        text-align: right;\n",
       "    }\n",
       "</style>\n",
       "<table border=\"1\" class=\"dataframe\">\n",
       "  <thead>\n",
       "    <tr style=\"text-align: right;\">\n",
       "      <th></th>\n",
       "      <th>Importance</th>\n",
       "    </tr>\n",
       "  </thead>\n",
       "  <tbody>\n",
       "    <tr>\n",
       "      <th>Destination</th>\n",
       "      <td>1.110126</td>\n",
       "    </tr>\n",
       "    <tr>\n",
       "      <th>Airline</th>\n",
       "      <td>0.972307</td>\n",
       "    </tr>\n",
       "    <tr>\n",
       "      <th>Total_Stops</th>\n",
       "      <td>0.786821</td>\n",
       "    </tr>\n",
       "    <tr>\n",
       "      <th>Source_Delhi</th>\n",
       "      <td>0.516273</td>\n",
       "    </tr>\n",
       "    <tr>\n",
       "      <th>Source_Kolkata</th>\n",
       "      <td>0.456505</td>\n",
       "    </tr>\n",
       "    <tr>\n",
       "      <th>Arrival_Time_Hour</th>\n",
       "      <td>0.397452</td>\n",
       "    </tr>\n",
       "    <tr>\n",
       "      <th>Source_Banglore</th>\n",
       "      <td>0.381994</td>\n",
       "    </tr>\n",
       "    <tr>\n",
       "      <th>Arrival_Time_Min</th>\n",
       "      <td>0.342844</td>\n",
       "    </tr>\n",
       "    <tr>\n",
       "      <th>Dep_Time_Hour</th>\n",
       "      <td>0.334534</td>\n",
       "    </tr>\n",
       "    <tr>\n",
       "      <th>Dep_Time_Min</th>\n",
       "      <td>0.251886</td>\n",
       "    </tr>\n",
       "    <tr>\n",
       "      <th>DOJ_Month</th>\n",
       "      <td>0.233755</td>\n",
       "    </tr>\n",
       "    <tr>\n",
       "      <th>DOJ_Day</th>\n",
       "      <td>0.200180</td>\n",
       "    </tr>\n",
       "    <tr>\n",
       "      <th>Source_Mumbai</th>\n",
       "      <td>0.196760</td>\n",
       "    </tr>\n",
       "    <tr>\n",
       "      <th>Source_Chennai</th>\n",
       "      <td>0.126406</td>\n",
       "    </tr>\n",
       "    <tr>\n",
       "      <th>Duration_min</th>\n",
       "      <td>0.004071</td>\n",
       "    </tr>\n",
       "    <tr>\n",
       "      <th>Duration_hour</th>\n",
       "      <td>0.000000</td>\n",
       "    </tr>\n",
       "  </tbody>\n",
       "</table>\n",
       "</div>"
      ],
      "text/plain": [
       "                   Importance\n",
       "Destination          1.110126\n",
       "Airline              0.972307\n",
       "Total_Stops          0.786821\n",
       "Source_Delhi         0.516273\n",
       "Source_Kolkata       0.456505\n",
       "Arrival_Time_Hour    0.397452\n",
       "Source_Banglore      0.381994\n",
       "Arrival_Time_Min     0.342844\n",
       "Dep_Time_Hour        0.334534\n",
       "Dep_Time_Min         0.251886\n",
       "DOJ_Month            0.233755\n",
       "DOJ_Day              0.200180\n",
       "Source_Mumbai        0.196760\n",
       "Source_Chennai       0.126406\n",
       "Duration_min         0.004071\n",
       "Duration_hour        0.000000"
      ]
     },
     "execution_count": 49,
     "metadata": {},
     "output_type": "execute_result"
    }
   ],
   "source": [
    "features_selected = pd.DataFrame(mutual_info_regression(x,y), index=x.columns)\n",
    "features_selected.columns = ['Importance']\n",
    "features_selected.sort_values(by='Importance', ascending=False)"
   ]
  },
  {
   "cell_type": "code",
   "execution_count": 50,
   "id": "995fef91",
   "metadata": {},
   "outputs": [],
   "source": [
    "# Apply machine learning model\n",
    "from sklearn.model_selection import train_test_split"
   ]
  },
  {
   "cell_type": "code",
   "execution_count": 51,
   "id": "13ffd33e",
   "metadata": {},
   "outputs": [],
   "source": [
    "X_train, X_test, y_train, y_test = train_test_split(x,y, test_size=0.25, random_state=42)"
   ]
  },
  {
   "cell_type": "code",
   "execution_count": 52,
   "id": "c4d532eb",
   "metadata": {},
   "outputs": [],
   "source": [
    "from sklearn.ensemble import RandomForestRegressor"
   ]
  },
  {
   "cell_type": "code",
   "execution_count": 53,
   "id": "89522611",
   "metadata": {},
   "outputs": [],
   "source": [
    "model = RandomForestRegressor()"
   ]
  },
  {
   "cell_type": "code",
   "execution_count": 54,
   "id": "51e24882",
   "metadata": {},
   "outputs": [
    {
     "data": {
      "text/plain": [
       "RandomForestRegressor()"
      ]
     },
     "execution_count": 54,
     "metadata": {},
     "output_type": "execute_result"
    }
   ],
   "source": [
    "model.fit(X_train, y_train)"
   ]
  },
  {
   "cell_type": "code",
   "execution_count": 55,
   "id": "07a0826c",
   "metadata": {},
   "outputs": [
    {
     "name": "stdout",
     "output_type": "stream",
     "text": [
      "[16643.21  6304.67  8925.08 ...  3495.64  6297.57  6805.91]\n"
     ]
    }
   ],
   "source": [
    "y_pred = model.predict(X_test)\n",
    "print(y_pred)"
   ]
  },
  {
   "cell_type": "code",
   "execution_count": 56,
   "id": "a4b3986d",
   "metadata": {},
   "outputs": [],
   "source": [
    "# evaluating the model\n",
    "from sklearn import metrics\n",
    "from sklearn.metrics import mean_absolute_percentage_error\n",
    "\n",
    "def evaluate(model):\n",
    "    r2_score = metrics.r2_score(y_test, y_pred)\n",
    "    print(\"r2 score is {}\".format(r2_score))\n",
    "    print(\"MSE is {}\".format(metrics.mean_squared_error(y_test, y_pred)))\n",
    "    print(\"RMSE is {}\".format(np.sqrt(metrics.mean_squared_error(y_test, y_pred))))\n",
    "    print(\"MAPE is {}\".format((mean_absolute_percentage_error(y_test, y_pred) * 100)))\n",
    "    sns.displot(y_test - y_pred)"
   ]
  },
  {
   "cell_type": "code",
   "execution_count": 57,
   "id": "4c1bff3c",
   "metadata": {},
   "outputs": [
    {
     "name": "stdout",
     "output_type": "stream",
     "text": [
      "r2 score is 0.81807118064786\n",
      "MSE is 3541717.422751822\n",
      "RMSE is 1881.9451168277521\n",
      "MAPE is 13.076695799331967\n"
     ]
    },
    {
     "data": {
      "image/png": "[encoded data removed]",
      "text/plain": [
       "<Figure size 360x360 with 1 Axes>"
      ]
     },
     "metadata": {
      "needs_background": "light"
     },
     "output_type": "display_data"
    }
   ],
   "source": [
    "evaluate(model)"
   ]
  },
  {
   "cell_type": "markdown",
   "id": "7a04a2dc",
   "metadata": {},
   "source": [
    "### if the error between the desired output(y_test) and predicted output(y_pred) is 0 majority of the test data was predicted right"
   ]
  },
  {
   "cell_type": "code",
   "execution_count": 58,
   "id": "20880e42",
   "metadata": {},
   "outputs": [],
   "source": [
    "# using another model to predict my test data\n",
    "from sklearn.linear_model import LinearRegression"
   ]
  },
  {
   "cell_type": "code",
   "execution_count": 59,
   "id": "3bd057a2",
   "metadata": {},
   "outputs": [],
   "source": [
    "model2 = LinearRegression()"
   ]
  },
  {
   "cell_type": "code",
   "execution_count": 60,
   "id": "4e873d4a",
   "metadata": {},
   "outputs": [
    {
     "data": {
      "text/plain": [
       "LinearRegression()"
      ]
     },
     "execution_count": 60,
     "metadata": {},
     "output_type": "execute_result"
    }
   ],
   "source": [
    "model2.fit(X_train, y_train)"
   ]
  },
  {
   "cell_type": "code",
   "execution_count": 61,
   "id": "d8ce3b0c",
   "metadata": {},
   "outputs": [
    {
     "name": "stdout",
     "output_type": "stream",
     "text": [
      "[12632.88583203  8727.38992076  8926.39407216 ...  3107.40163115\n",
      "  9621.09727053  8195.46258794]\n"
     ]
    }
   ],
   "source": [
    "y_pred2 = model2.predict(X_test)\n",
    "print(y_pred2)"
   ]
  },
  {
   "cell_type": "code",
   "execution_count": 62,
   "id": "9715d9c0",
   "metadata": {},
   "outputs": [],
   "source": [
    "def evaluate(ml):\n",
    "    r2_score = metrics.r2_score(y_test, y_pred2)\n",
    "    print(\"r2 score is {}\".format(r2_score))\n",
    "    print(\"MSE is {}\".format(metrics.mean_squared_error(y_test, y_pred2)))\n",
    "    print(\"RMSE is {}\".format(np.sqrt(metrics.mean_squared_error(y_test, y_pred2))))\n",
    "    print(\"MAPE is {}\".format((mean_absolute_percentage_error(y_test, y_pred2) * 100)))\n",
    "    sns.displot(y_test - y_pred2)"
   ]
  },
  {
   "cell_type": "code",
   "execution_count": 63,
   "id": "7140d59d",
   "metadata": {},
   "outputs": [
    {
     "name": "stdout",
     "output_type": "stream",
     "text": [
      "r2 score is 0.5859616542552206\n",
      "MSE is 8060332.7610963145\n",
      "RMSE is 2839.072517759332\n",
      "MAPE is 24.391655867494467\n"
     ]
    },
    {
     "data": {
      "image/png": "[encoded data removed]",
      "text/plain": [
       "<Figure size 360x360 with 1 Axes>"
      ]
     },
     "metadata": {
      "needs_background": "light"
     },
     "output_type": "display_data"
    }
   ],
   "source": [
    "evaluate(model2)"
   ]
  },
  {
   "cell_type": "code",
   "execution_count": 64,
   "id": "c488ed65",
   "metadata": {},
   "outputs": [],
   "source": [
    "# Cross validate the model\n",
    "from sklearn.model_selection import RandomizedSearchCV"
   ]
  },
  {
   "cell_type": "code",
   "execution_count": 65,
   "id": "b4a4fd90",
   "metadata": {},
   "outputs": [],
   "source": [
    "reg_model = RandomForestRegressor()"
   ]
  },
  {
   "cell_type": "code",
   "execution_count": 66,
   "id": "745a542a",
   "metadata": {},
   "outputs": [],
   "source": [
    "n_estimators = [int(x) for x in np.linspace(1000,1300,6)]\n",
    "\n",
    "max_features = [\"auto\", \"sqrt\"]\n",
    "\n",
    "max_depth = [int(x) for x in np.linspace(5,34,4)]\n",
    "\n",
    "min_samples_split = [5,10,15,90]"
   ]
  },
  {
   "cell_type": "code",
   "execution_count": 67,
   "id": "158fd2d2",
   "metadata": {},
   "outputs": [
    {
     "data": {
      "text/plain": [
       "{'n_estimators': [1000, 1060, 1120, 1180, 1240, 1300],\n",
       " 'max_features': ['auto', 'sqrt'],\n",
       " 'max_depth': [5, 14, 24, 34],\n",
       " 'min_samples_split': [5, 10, 15, 90]}"
      ]
     },
     "execution_count": 67,
     "metadata": {},
     "output_type": "execute_result"
    }
   ],
   "source": [
    "rand_grid = {\n",
    "    'n_estimators':n_estimators,\n",
    "    'max_features': max_features,\n",
    "    'max_depth': max_depth,\n",
    "    'min_samples_split': min_samples_split\n",
    "    \n",
    "}\n",
    "rand_grid"
   ]
  },
  {
   "cell_type": "code",
   "execution_count": 68,
   "id": "1394766f",
   "metadata": {},
   "outputs": [],
   "source": [
    "cross_val = RandomizedSearchCV(reg_model, param_distributions=rand_grid, cv=3, verbose=2, n_jobs=1)"
   ]
  },
  {
   "cell_type": "code",
   "execution_count": 69,
   "id": "93aaea15",
   "metadata": {},
   "outputs": [
    {
     "name": "stdout",
     "output_type": "stream",
     "text": [
      "Fitting 3 folds for each of 10 candidates, totalling 30 fits\n",
      "[CV] END max_depth=5, max_features=sqrt, min_samples_split=15, n_estimators=1000; total time=   2.9s\n",
      "[CV] END max_depth=5, max_features=sqrt, min_samples_split=15, n_estimators=1000; total time=   3.2s\n",
      "[CV] END max_depth=5, max_features=sqrt, min_samples_split=15, n_estimators=1000; total time=   2.9s\n",
      "[CV] END max_depth=34, max_features=auto, min_samples_split=15, n_estimators=1060; total time=  12.2s\n",
      "[CV] END max_depth=34, max_features=auto, min_samples_split=15, n_estimators=1060; total time=  12.3s\n",
      "[CV] END max_depth=34, max_features=auto, min_samples_split=15, n_estimators=1060; total time=  12.2s\n",
      "[CV] END max_depth=24, max_features=auto, min_samples_split=5, n_estimators=1180; total time=  16.8s\n",
      "[CV] END max_depth=24, max_features=auto, min_samples_split=5, n_estimators=1180; total time=  17.0s\n",
      "[CV] END max_depth=24, max_features=auto, min_samples_split=5, n_estimators=1180; total time=  16.5s\n",
      "[CV] END max_depth=14, max_features=auto, min_samples_split=90, n_estimators=1000; total time=   8.1s\n",
      "[CV] END max_depth=14, max_features=auto, min_samples_split=90, n_estimators=1000; total time=   8.4s\n",
      "[CV] END max_depth=14, max_features=auto, min_samples_split=90, n_estimators=1000; total time=   8.5s\n",
      "[CV] END max_depth=24, max_features=auto, min_samples_split=15, n_estimators=1000; total time=  11.7s\n",
      "[CV] END max_depth=24, max_features=auto, min_samples_split=15, n_estimators=1000; total time=  11.5s\n",
      "[CV] END max_depth=24, max_features=auto, min_samples_split=15, n_estimators=1000; total time=  11.4s\n",
      "[CV] END max_depth=14, max_features=auto, min_samples_split=90, n_estimators=1300; total time=  10.6s\n",
      "[CV] END max_depth=14, max_features=auto, min_samples_split=90, n_estimators=1300; total time=  10.8s\n",
      "[CV] END max_depth=14, max_features=auto, min_samples_split=90, n_estimators=1300; total time=  10.8s\n",
      "[CV] END max_depth=24, max_features=auto, min_samples_split=5, n_estimators=1300; total time=  18.0s\n",
      "[CV] END max_depth=24, max_features=auto, min_samples_split=5, n_estimators=1300; total time=  18.5s\n",
      "[CV] END max_depth=24, max_features=auto, min_samples_split=5, n_estimators=1300; total time=  18.9s\n",
      "[CV] END max_depth=34, max_features=sqrt, min_samples_split=5, n_estimators=1060; total time=   6.8s\n",
      "[CV] END max_depth=34, max_features=sqrt, min_samples_split=5, n_estimators=1060; total time=   6.7s\n",
      "[CV] END max_depth=34, max_features=sqrt, min_samples_split=5, n_estimators=1060; total time=   6.7s\n",
      "[CV] END max_depth=24, max_features=auto, min_samples_split=10, n_estimators=1180; total time=  14.4s\n",
      "[CV] END max_depth=24, max_features=auto, min_samples_split=10, n_estimators=1180; total time=  15.5s\n",
      "[CV] END max_depth=24, max_features=auto, min_samples_split=10, n_estimators=1180; total time=  14.5s\n",
      "[CV] END max_depth=24, max_features=auto, min_samples_split=15, n_estimators=1300; total time=  14.8s\n",
      "[CV] END max_depth=24, max_features=auto, min_samples_split=15, n_estimators=1300; total time=  15.0s\n",
      "[CV] END max_depth=24, max_features=auto, min_samples_split=15, n_estimators=1300; total time=  15.0s\n"
     ]
    },
    {
     "data": {
      "text/plain": [
       "RandomizedSearchCV(cv=3, estimator=RandomForestRegressor(), n_jobs=1,\n",
       "                   param_distributions={'max_depth': [5, 14, 24, 34],\n",
       "                                        'max_features': ['auto', 'sqrt'],\n",
       "                                        'min_samples_split': [5, 10, 15, 90],\n",
       "                                        'n_estimators': [1000, 1060, 1120, 1180,\n",
       "                                                         1240, 1300]},\n",
       "                   verbose=2)"
      ]
     },
     "execution_count": 69,
     "metadata": {},
     "output_type": "execute_result"
    }
   ],
   "source": [
    "cross_val.fit(X_train,y_train)"
   ]
  },
  {
   "cell_type": "code",
   "execution_count": 70,
   "id": "0ef90206",
   "metadata": {},
   "outputs": [
    {
     "data": {
      "text/plain": [
       "{'n_estimators': 1180,\n",
       " 'min_samples_split': 10,\n",
       " 'max_features': 'auto',\n",
       " 'max_depth': 24}"
      ]
     },
     "execution_count": 70,
     "metadata": {},
     "output_type": "execute_result"
    }
   ],
   "source": [
    "cross_val.best_params_"
   ]
  },
  {
   "cell_type": "code",
   "execution_count": 71,
   "id": "f30135d1",
   "metadata": {},
   "outputs": [
    {
     "data": {
      "text/plain": [
       "0.838672907062342"
      ]
     },
     "execution_count": 71,
     "metadata": {},
     "output_type": "execute_result"
    }
   ],
   "source": [
    "y_pred3 = cross_val.predict(X_test)\n",
    "metrics.r2_score(y_test, y_pred3)"
   ]
  },
  {
   "cell_type": "markdown",
   "id": "b4699aba",
   "metadata": {},
   "source": [
    "#### Using the best parameters the model's accuracy increased as compared to the other accuracy from the r2 score"
   ]
  },
  {
   "cell_type": "code",
   "execution_count": null,
   "id": "6c14bafc",
   "metadata": {},
   "outputs": [],
   "source": []
  }
 ],
 "metadata": {
  "kernelspec": {
   "display_name": "Python 3 (ipykernel)",
   "language": "python",
   "name": "python3"
  },
  "language_info": {
   "codemirror_mode": {
    "name": "ipython",
    "version": 3
   },
   "file_extension": ".py",
   "mimetype": "text/x-python",
   "name": "python",
   "nbconvert_exporter": "python",
   "pygments_lexer": "ipython3",
   "version": "3.9.12"
  }
 },
 "nbformat": 4,
 "nbformat_minor": 5
}
